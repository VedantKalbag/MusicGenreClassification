{
 "cells": [
  {
   "cell_type": "code",
   "execution_count": 5,
   "metadata": {},
   "outputs": [],
   "source": [
    "# TODO: Load audio files, Preprocess as melspec, save as np file\n",
    "PATH = '../../datasets/gtzan/Data/genres_original'"
   ]
  },
  {
   "cell_type": "code",
   "execution_count": 1,
   "metadata": {},
   "outputs": [
    {
     "name": "stdout",
     "output_type": "stream",
     "text": [
      "/usr/research/drive/Vedant/src\n"
     ]
    }
   ],
   "source": [
    "import preprocess"
   ]
  },
  {
   "cell_type": "code",
   "execution_count": 9,
   "metadata": {},
   "outputs": [
    {
     "name": "stdout",
     "output_type": "stream",
     "text": [
      "Processing pop files\n"
     ]
    },
    {
     "name": "stderr",
     "output_type": "stream",
     "text": [
      "100%|██████████| 100/100 [00:00<00:00, 89335.55it/s]\n"
     ]
    },
    {
     "name": "stdout",
     "output_type": "stream",
     "text": [
      "name 'PATH' is not defined\n",
      "name 'PATH' is not defined\n",
      "name 'PATH' is not defined\n",
      "name 'PATH' is not defined\n",
      "name 'PATH' is not defined\n",
      "name 'PATH' is not defined\n",
      "name 'PATH' is not defined\n",
      "name 'PATH' is not defined\n",
      "name 'PATH' is not defined\n",
      "name 'PATH' is not defined\n",
      "name 'PATH' is not defined\n",
      "name 'PATH' is not defined\n",
      "name 'PATH' is not defined\n",
      "name 'PATH' is not defined\n",
      "name 'PATH' is not defined\n",
      "name 'PATH' is not defined\n",
      "name 'PATH' is not defined\n",
      "name 'PATH' is not defined\n",
      "name 'PATH' is not defined\n",
      "name 'PATH' is not defined\n",
      "name 'PATH' is not defined\n",
      "name 'PATH' is not defined\n",
      "name 'PATH' is not defined\n",
      "name 'PATH' is not defined\n",
      "name 'PATH' is not defined\n",
      "name 'PATH' is not defined\n",
      "name 'PATH' is not defined\n",
      "name 'PATH' is not defined\n",
      "name 'PATH' is not defined\n",
      "name 'PATH' is not defined\n",
      "name 'PATH' is not defined\n",
      "name 'PATH' is not defined\n",
      "name 'PATH' is not defined\n",
      "name 'PATH' is not defined\n",
      "name 'PATH' is not defined\n",
      "name 'PATH' is not defined\n",
      "name 'PATH' is not defined\n",
      "name 'PATH' is not defined\n",
      "name 'PATH' is not defined\n",
      "name 'PATH' is not defined\n",
      "name 'PATH' is not defined\n",
      "name 'PATH' is not defined\n",
      "name 'PATH' is not defined\n",
      "name 'PATH' is not defined\n",
      "name 'PATH' is not defined\n",
      "name 'PATH' is not defined\n",
      "name 'PATH' is not defined\n",
      "name 'PATH' is not defined\n",
      "name 'PATH' is not defined\n",
      "name 'PATH' is not defined\n",
      "name 'PATH' is not defined\n",
      "name 'PATH' is not defined\n",
      "name 'PATH' is not defined\n",
      "name 'PATH' is not defined\n",
      "name 'PATH' is not defined\n",
      "name 'PATH' is not defined\n",
      "name 'PATH' is not defined\n",
      "name 'PATH' is not defined\n",
      "name 'PATH' is not defined\n",
      "name 'PATH' is not defined\n",
      "name 'PATH' is not defined\n",
      "name 'PATH' is not defined\n",
      "name 'PATH' is not defined\n",
      "name 'PATH' is not defined\n",
      "name 'PATH' is not defined\n",
      "name 'PATH' is not defined\n",
      "name 'PATH' is not defined\n",
      "name 'PATH' is not defined\n",
      "name 'PATH' is not defined\n",
      "name 'PATH' is not defined\n",
      "name 'PATH' is not defined\n",
      "name 'PATH' is not defined\n",
      "name 'PATH' is not defined\n",
      "name 'PATH' is not defined\n",
      "name 'PATH' is not defined\n",
      "name 'PATH' is not defined\n",
      "name 'PATH' is not defined\n",
      "name 'PATH' is not defined\n",
      "name 'PATH' is not defined\n",
      "name 'PATH' is not defined\n",
      "name 'PATH' is not defined\n",
      "name 'PATH' is not defined\n",
      "name 'PATH' is not defined\n",
      "name 'PATH' is not defined\n",
      "name 'PATH' is not defined\n",
      "name 'PATH' is not defined\n",
      "name 'PATH' is not defined\n",
      "name 'PATH' is not defined\n",
      "name 'PATH' is not defined\n",
      "name 'PATH' is not defined\n",
      "name 'PATH' is not defined\n",
      "name 'PATH' is not defined\n",
      "name 'PATH' is not defined\n",
      "name 'PATH' is not defined\n",
      "name 'PATH' is not defined\n",
      "name 'PATH' is not defined\n",
      "name 'PATH' is not defined\n",
      "name 'PATH' is not defined\n",
      "name 'PATH' is not defined\n",
      "name 'PATH' is not defined\n",
      "Processing disco files\n"
     ]
    },
    {
     "name": "stderr",
     "output_type": "stream",
     "text": [
      "100%|██████████| 100/100 [00:00<00:00, 90103.20it/s]\n"
     ]
    },
    {
     "name": "stdout",
     "output_type": "stream",
     "text": [
      "name 'PATH' is not defined\n",
      "name 'PATH' is not defined\n",
      "name 'PATH' is not defined\n",
      "name 'PATH' is not defined\n",
      "name 'PATH' is not defined\n",
      "name 'PATH' is not defined\n",
      "name 'PATH' is not defined\n",
      "name 'PATH' is not defined\n",
      "name 'PATH' is not defined\n",
      "name 'PATH' is not defined\n",
      "name 'PATH' is not defined\n",
      "name 'PATH' is not defined\n",
      "name 'PATH' is not defined\n",
      "name 'PATH' is not defined\n",
      "name 'PATH' is not defined\n",
      "name 'PATH' is not defined\n",
      "name 'PATH' is not defined\n",
      "name 'PATH' is not defined\n",
      "name 'PATH' is not defined\n",
      "name 'PATH' is not defined\n",
      "name 'PATH' is not defined\n",
      "name 'PATH' is not defined\n",
      "name 'PATH' is not defined\n",
      "name 'PATH' is not defined\n",
      "name 'PATH' is not defined\n",
      "name 'PATH' is not defined\n",
      "name 'PATH' is not defined\n",
      "name 'PATH' is not defined\n",
      "name 'PATH' is not defined\n",
      "name 'PATH' is not defined\n",
      "name 'PATH' is not defined\n",
      "name 'PATH' is not defined\n",
      "name 'PATH' is not defined\n",
      "name 'PATH' is not defined\n",
      "name 'PATH' is not defined\n",
      "name 'PATH' is not defined\n",
      "name 'PATH' is not defined\n",
      "name 'PATH' is not defined\n",
      "name 'PATH' is not defined\n",
      "name 'PATH' is not defined\n",
      "name 'PATH' is not defined\n",
      "name 'PATH' is not defined\n",
      "name 'PATH' is not defined\n",
      "name 'PATH' is not defined\n",
      "name 'PATH' is not defined\n",
      "name 'PATH' is not defined\n",
      "name 'PATH' is not defined\n",
      "name 'PATH' is not defined\n",
      "name 'PATH' is not defined\n",
      "name 'PATH' is not defined\n",
      "name 'PATH' is not defined\n",
      "name 'PATH' is not defined\n",
      "name 'PATH' is not defined\n",
      "name 'PATH' is not defined\n",
      "name 'PATH' is not defined\n",
      "name 'PATH' is not defined\n",
      "name 'PATH' is not defined\n",
      "name 'PATH' is not defined\n",
      "name 'PATH' is not defined\n",
      "name 'PATH' is not defined\n",
      "name 'PATH' is not defined\n",
      "name 'PATH' is not defined\n",
      "name 'PATH' is not defined\n",
      "name 'PATH' is not defined\n",
      "name 'PATH' is not defined\n",
      "name 'PATH' is not defined\n",
      "name 'PATH' is not defined\n",
      "name 'PATH' is not defined\n",
      "name 'PATH' is not defined\n",
      "name 'PATH' is not defined\n",
      "name 'PATH' is not defined\n",
      "name 'PATH' is not defined\n",
      "name 'PATH' is not defined\n",
      "name 'PATH' is not defined\n",
      "name 'PATH' is not defined\n",
      "name 'PATH' is not defined\n",
      "name 'PATH' is not defined\n",
      "name 'PATH' is not defined\n",
      "name 'PATH' is not defined\n",
      "name 'PATH' is not defined\n",
      "name 'PATH' is not defined\n",
      "name 'PATH' is not defined\n",
      "name 'PATH' is not defined\n",
      "name 'PATH' is not defined\n",
      "name 'PATH' is not defined\n",
      "name 'PATH' is not defined\n",
      "name 'PATH' is not defined\n",
      "name 'PATH' is not defined\n",
      "name 'PATH' is not defined\n",
      "name 'PATH' is not defined\n",
      "name 'PATH' is not defined\n",
      "name 'PATH' is not defined\n",
      "name 'PATH' is not defined\n",
      "name 'PATH' is not defined\n",
      "name 'PATH' is not defined\n",
      "name 'PATH' is not defined\n",
      "name 'PATH' is not defined\n",
      "name 'PATH' is not defined\n",
      "name 'PATH' is not defined\n",
      "name 'PATH' is not defined\n",
      "Processing blues files\n"
     ]
    },
    {
     "name": "stderr",
     "output_type": "stream",
     "text": [
      "100%|██████████| 100/100 [00:00<00:00, 72767.24it/s]\n"
     ]
    },
    {
     "name": "stdout",
     "output_type": "stream",
     "text": [
      "name 'PATH' is not defined\n",
      "name 'PATH' is not defined\n",
      "name 'PATH' is not defined\n",
      "name 'PATH' is not defined\n",
      "name 'PATH' is not defined\n",
      "name 'PATH' is not defined\n",
      "name 'PATH' is not defined\n",
      "name 'PATH' is not defined\n",
      "name 'PATH' is not defined\n",
      "name 'PATH' is not defined\n",
      "name 'PATH' is not defined\n",
      "name 'PATH' is not defined\n",
      "name 'PATH' is not defined\n",
      "name 'PATH' is not defined\n",
      "name 'PATH' is not defined\n",
      "name 'PATH' is not defined\n",
      "name 'PATH' is not defined\n",
      "name 'PATH' is not defined\n",
      "name 'PATH' is not defined\n",
      "name 'PATH' is not defined\n",
      "name 'PATH' is not defined\n",
      "name 'PATH' is not defined\n",
      "name 'PATH' is not defined\n",
      "name 'PATH' is not defined\n",
      "name 'PATH' is not defined\n",
      "name 'PATH' is not defined\n",
      "name 'PATH' is not defined\n",
      "name 'PATH' is not defined\n",
      "name 'PATH' is not defined\n",
      "name 'PATH' is not defined\n",
      "name 'PATH' is not defined\n",
      "name 'PATH' is not defined\n",
      "name 'PATH' is not defined\n",
      "name 'PATH' is not defined\n",
      "name 'PATH' is not defined\n",
      "name 'PATH' is not defined\n",
      "name 'PATH' is not defined\n",
      "name 'PATH' is not defined\n",
      "name 'PATH' is not defined\n",
      "name 'PATH' is not defined\n",
      "name 'PATH' is not defined\n",
      "name 'PATH' is not defined\n",
      "name 'PATH' is not defined\n",
      "name 'PATH' is not defined\n",
      "name 'PATH' is not defined\n",
      "name 'PATH' is not defined\n",
      "name 'PATH' is not defined\n",
      "name 'PATH' is not defined\n",
      "name 'PATH' is not defined\n",
      "name 'PATH' is not defined\n",
      "name 'PATH' is not defined\n",
      "name 'PATH' is not defined\n",
      "name 'PATH' is not defined\n",
      "name 'PATH' is not defined\n",
      "name 'PATH' is not defined\n",
      "name 'PATH' is not defined\n",
      "name 'PATH' is not defined\n",
      "name 'PATH' is not defined\n",
      "name 'PATH' is not defined\n",
      "name 'PATH' is not defined\n",
      "name 'PATH' is not defined\n",
      "name 'PATH' is not defined\n",
      "name 'PATH' is not defined\n",
      "name 'PATH' is not defined\n",
      "name 'PATH' is not defined\n",
      "name 'PATH' is not defined\n",
      "name 'PATH' is not defined\n",
      "name 'PATH' is not defined\n",
      "name 'PATH' is not defined\n",
      "name 'PATH' is not defined\n",
      "name 'PATH' is not defined\n",
      "name 'PATH' is not defined\n",
      "name 'PATH' is not defined\n",
      "name 'PATH' is not defined\n",
      "name 'PATH' is not defined\n",
      "name 'PATH' is not defined\n",
      "name 'PATH' is not defined\n",
      "name 'PATH' is not defined\n",
      "name 'PATH' is not defined\n",
      "name 'PATH' is not defined\n",
      "name 'PATH' is not defined\n",
      "name 'PATH' is not defined\n",
      "name 'PATH' is not defined\n",
      "name 'PATH' is not defined\n",
      "name 'PATH' is not defined\n",
      "name 'PATH' is not defined\n",
      "name 'PATH' is not defined\n",
      "name 'PATH' is not defined\n",
      "name 'PATH' is not defined\n",
      "name 'PATH' is not defined\n",
      "name 'PATH' is not defined\n",
      "name 'PATH' is not defined\n",
      "name 'PATH' is not defined\n",
      "name 'PATH' is not defined\n",
      "name 'PATH' is not defined\n",
      "name 'PATH' is not defined\n",
      "name 'PATH' is not defined\n",
      "name 'PATH' is not defined\n",
      "name 'PATH' is not defined\n",
      "name 'PATH' is not defined\n",
      "Processing hiphop files\n"
     ]
    },
    {
     "name": "stderr",
     "output_type": "stream",
     "text": [
      "100%|██████████| 100/100 [00:00<00:00, 98158.30it/s]\n"
     ]
    },
    {
     "name": "stdout",
     "output_type": "stream",
     "text": [
      "name 'PATH' is not defined\n",
      "name 'PATH' is not defined\n",
      "name 'PATH' is not defined\n",
      "name 'PATH' is not defined\n",
      "name 'PATH' is not defined\n",
      "name 'PATH' is not defined\n",
      "name 'PATH' is not defined\n",
      "name 'PATH' is not defined\n",
      "name 'PATH' is not defined\n",
      "name 'PATH' is not defined\n",
      "name 'PATH' is not defined\n",
      "name 'PATH' is not defined\n",
      "name 'PATH' is not defined\n",
      "name 'PATH' is not defined\n",
      "name 'PATH' is not defined\n",
      "name 'PATH' is not defined\n",
      "name 'PATH' is not defined\n",
      "name 'PATH' is not defined\n",
      "name 'PATH' is not defined\n",
      "name 'PATH' is not defined\n",
      "name 'PATH' is not defined\n",
      "name 'PATH' is not defined\n",
      "name 'PATH' is not defined\n",
      "name 'PATH' is not defined\n",
      "name 'PATH' is not defined\n",
      "name 'PATH' is not defined\n",
      "name 'PATH' is not defined\n",
      "name 'PATH' is not defined\n",
      "name 'PATH' is not defined\n",
      "name 'PATH' is not defined\n",
      "name 'PATH' is not defined\n",
      "name 'PATH' is not defined\n",
      "name 'PATH' is not defined\n",
      "name 'PATH' is not defined\n",
      "name 'PATH' is not defined\n",
      "name 'PATH' is not defined\n",
      "name 'PATH' is not defined\n",
      "name 'PATH' is not defined\n",
      "name 'PATH' is not defined\n",
      "name 'PATH' is not defined\n",
      "name 'PATH' is not defined\n",
      "name 'PATH' is not defined\n",
      "name 'PATH' is not defined\n",
      "name 'PATH' is not defined\n",
      "name 'PATH' is not defined\n",
      "name 'PATH' is not defined\n",
      "name 'PATH' is not defined\n",
      "name 'PATH' is not defined\n",
      "name 'PATH' is not defined\n",
      "name 'PATH' is not defined\n",
      "name 'PATH' is not defined\n",
      "name 'PATH' is not defined\n",
      "name 'PATH' is not defined\n",
      "name 'PATH' is not defined\n",
      "name 'PATH' is not defined\n",
      "name 'PATH' is not defined\n",
      "name 'PATH' is not defined\n",
      "name 'PATH' is not defined\n",
      "name 'PATH' is not defined\n",
      "name 'PATH' is not defined\n",
      "name 'PATH' is not defined\n",
      "name 'PATH' is not defined\n",
      "name 'PATH' is not defined\n",
      "name 'PATH' is not defined\n",
      "name 'PATH' is not defined\n",
      "name 'PATH' is not defined\n",
      "name 'PATH' is not defined\n",
      "name 'PATH' is not defined\n",
      "name 'PATH' is not defined\n",
      "name 'PATH' is not defined\n",
      "name 'PATH' is not defined\n",
      "name 'PATH' is not defined\n",
      "name 'PATH' is not defined\n",
      "name 'PATH' is not defined\n",
      "name 'PATH' is not defined\n",
      "name 'PATH' is not defined\n",
      "name 'PATH' is not defined\n",
      "name 'PATH' is not defined\n",
      "name 'PATH' is not defined\n",
      "name 'PATH' is not defined\n",
      "name 'PATH' is not defined\n",
      "name 'PATH' is not defined\n",
      "name 'PATH' is not defined\n",
      "name 'PATH' is not defined\n",
      "name 'PATH' is not defined\n",
      "name 'PATH' is not defined\n",
      "name 'PATH' is not defined\n",
      "name 'PATH' is not defined\n",
      "name 'PATH' is not defined\n",
      "name 'PATH' is not defined\n",
      "name 'PATH' is not defined\n",
      "name 'PATH' is not defined\n",
      "name 'PATH' is not defined\n",
      "name 'PATH' is not defined\n",
      "name 'PATH' is not defined\n",
      "name 'PATH' is not defined\n",
      "name 'PATH' is not defined\n",
      "name 'PATH' is not defined\n",
      "name 'PATH' is not defined\n",
      "name 'PATH' is not defined\n",
      "Processing country files\n"
     ]
    },
    {
     "name": "stderr",
     "output_type": "stream",
     "text": [
      "100%|██████████| 100/100 [00:00<00:00, 96465.13it/s]\n"
     ]
    },
    {
     "name": "stdout",
     "output_type": "stream",
     "text": [
      "name 'PATH' is not defined\n",
      "name 'PATH' is not defined\n",
      "name 'PATH' is not defined\n",
      "name 'PATH' is not defined\n",
      "name 'PATH' is not defined\n",
      "name 'PATH' is not defined\n",
      "name 'PATH' is not defined\n",
      "name 'PATH' is not defined\n",
      "name 'PATH' is not defined\n",
      "name 'PATH' is not defined\n",
      "name 'PATH' is not defined\n",
      "name 'PATH' is not defined\n",
      "name 'PATH' is not defined\n",
      "name 'PATH' is not defined\n",
      "name 'PATH' is not defined\n",
      "name 'PATH' is not defined\n",
      "name 'PATH' is not defined\n",
      "name 'PATH' is not defined\n",
      "name 'PATH' is not defined\n",
      "name 'PATH' is not defined\n",
      "name 'PATH' is not defined\n",
      "name 'PATH' is not defined\n",
      "name 'PATH' is not defined\n",
      "name 'PATH' is not defined\n",
      "name 'PATH' is not defined\n",
      "name 'PATH' is not defined\n",
      "name 'PATH' is not defined\n",
      "name 'PATH' is not defined\n",
      "name 'PATH' is not defined\n",
      "name 'PATH' is not defined\n",
      "name 'PATH' is not defined\n",
      "name 'PATH' is not defined\n",
      "name 'PATH' is not defined\n",
      "name 'PATH' is not defined\n",
      "name 'PATH' is not defined\n",
      "name 'PATH' is not defined\n",
      "name 'PATH' is not defined\n",
      "name 'PATH' is not defined\n",
      "name 'PATH' is not defined\n",
      "name 'PATH' is not defined\n",
      "name 'PATH' is not defined\n",
      "name 'PATH' is not defined\n",
      "name 'PATH' is not defined\n",
      "name 'PATH' is not defined\n",
      "name 'PATH' is not defined\n",
      "name 'PATH' is not defined\n",
      "name 'PATH' is not defined\n",
      "name 'PATH' is not defined\n",
      "name 'PATH' is not defined\n",
      "name 'PATH' is not defined\n",
      "name 'PATH' is not defined\n",
      "name 'PATH' is not defined\n",
      "name 'PATH' is not defined\n",
      "name 'PATH' is not defined\n",
      "name 'PATH' is not defined\n",
      "name 'PATH' is not defined\n",
      "name 'PATH' is not defined\n",
      "name 'PATH' is not defined\n",
      "name 'PATH' is not defined\n",
      "name 'PATH' is not defined\n",
      "name 'PATH' is not defined\n",
      "name 'PATH' is not defined\n",
      "name 'PATH' is not defined\n",
      "name 'PATH' is not defined\n",
      "name 'PATH' is not defined\n",
      "name 'PATH' is not defined\n",
      "name 'PATH' is not defined\n",
      "name 'PATH' is not defined\n",
      "name 'PATH' is not defined\n",
      "name 'PATH' is not defined\n",
      "name 'PATH' is not defined\n",
      "name 'PATH' is not defined\n",
      "name 'PATH' is not defined\n",
      "name 'PATH' is not defined\n",
      "name 'PATH' is not defined\n",
      "name 'PATH' is not defined\n",
      "name 'PATH' is not defined\n",
      "name 'PATH' is not defined\n",
      "name 'PATH' is not defined\n",
      "name 'PATH' is not defined\n",
      "name 'PATH' is not defined\n",
      "name 'PATH' is not defined\n",
      "name 'PATH' is not defined\n",
      "name 'PATH' is not defined\n",
      "name 'PATH' is not defined\n",
      "name 'PATH' is not defined\n",
      "name 'PATH' is not defined\n",
      "name 'PATH' is not defined\n",
      "name 'PATH' is not defined\n",
      "name 'PATH' is not defined\n",
      "name 'PATH' is not defined\n",
      "name 'PATH' is not defined\n",
      "name 'PATH' is not defined\n",
      "name 'PATH' is not defined\n",
      "name 'PATH' is not defined\n",
      "name 'PATH' is not defined\n",
      "name 'PATH' is not defined\n",
      "name 'PATH' is not defined\n",
      "name 'PATH' is not defined\n",
      "name 'PATH' is not defined\n",
      "Processing jazz files\n"
     ]
    },
    {
     "name": "stderr",
     "output_type": "stream",
     "text": [
      "100%|██████████| 100/100 [00:00<00:00, 99532.61it/s]\n"
     ]
    },
    {
     "name": "stdout",
     "output_type": "stream",
     "text": [
      "name 'PATH' is not defined\n",
      "name 'PATH' is not defined\n",
      "name 'PATH' is not defined\n",
      "name 'PATH' is not defined\n",
      "name 'PATH' is not defined\n",
      "name 'PATH' is not defined\n",
      "name 'PATH' is not defined\n",
      "name 'PATH' is not defined\n",
      "name 'PATH' is not defined\n",
      "name 'PATH' is not defined\n",
      "name 'PATH' is not defined\n",
      "name 'PATH' is not defined\n",
      "name 'PATH' is not defined\n",
      "name 'PATH' is not defined\n",
      "name 'PATH' is not defined\n",
      "name 'PATH' is not defined\n",
      "name 'PATH' is not defined\n",
      "name 'PATH' is not defined\n",
      "name 'PATH' is not defined\n",
      "name 'PATH' is not defined\n",
      "name 'PATH' is not defined\n",
      "name 'PATH' is not defined\n",
      "name 'PATH' is not defined\n",
      "name 'PATH' is not defined\n",
      "name 'PATH' is not defined\n",
      "name 'PATH' is not defined\n",
      "name 'PATH' is not defined\n",
      "name 'PATH' is not defined\n",
      "name 'PATH' is not defined\n",
      "name 'PATH' is not defined\n",
      "name 'PATH' is not defined\n",
      "name 'PATH' is not defined\n",
      "name 'PATH' is not defined\n",
      "name 'PATH' is not defined\n",
      "name 'PATH' is not defined\n",
      "name 'PATH' is not defined\n",
      "name 'PATH' is not defined\n",
      "name 'PATH' is not defined\n",
      "name 'PATH' is not defined\n",
      "name 'PATH' is not defined\n",
      "name 'PATH' is not defined\n",
      "name 'PATH' is not defined\n",
      "name 'PATH' is not defined\n",
      "name 'PATH' is not defined\n",
      "name 'PATH' is not defined\n",
      "name 'PATH' is not defined\n",
      "name 'PATH' is not defined\n",
      "name 'PATH' is not defined\n",
      "name 'PATH' is not defined\n",
      "name 'PATH' is not defined\n",
      "name 'PATH' is not defined\n",
      "name 'PATH' is not defined\n",
      "name 'PATH' is not defined\n",
      "name 'PATH' is not defined\n",
      "name 'PATH' is not defined\n",
      "name 'PATH' is not defined\n",
      "name 'PATH' is not defined\n",
      "name 'PATH' is not defined\n",
      "name 'PATH' is not defined\n",
      "name 'PATH' is not defined\n",
      "name 'PATH' is not defined\n",
      "name 'PATH' is not defined\n",
      "name 'PATH' is not defined\n",
      "name 'PATH' is not defined\n",
      "name 'PATH' is not defined\n",
      "name 'PATH' is not defined\n",
      "name 'PATH' is not defined\n",
      "name 'PATH' is not defined\n",
      "name 'PATH' is not defined\n",
      "name 'PATH' is not defined\n",
      "name 'PATH' is not defined\n",
      "name 'PATH' is not defined\n",
      "name 'PATH' is not defined\n",
      "name 'PATH' is not defined\n",
      "name 'PATH' is not defined\n",
      "name 'PATH' is not defined\n",
      "name 'PATH' is not defined\n",
      "name 'PATH' is not defined\n",
      "name 'PATH' is not defined\n",
      "name 'PATH' is not defined\n",
      "name 'PATH' is not defined\n",
      "name 'PATH' is not defined\n",
      "name 'PATH' is not defined\n",
      "name 'PATH' is not defined\n",
      "name 'PATH' is not defined\n",
      "name 'PATH' is not defined\n",
      "name 'PATH' is not defined\n",
      "name 'PATH' is not defined\n",
      "name 'PATH' is not defined\n",
      "name 'PATH' is not defined\n",
      "name 'PATH' is not defined\n",
      "name 'PATH' is not defined\n",
      "name 'PATH' is not defined\n",
      "name 'PATH' is not defined\n",
      "name 'PATH' is not defined\n",
      "name 'PATH' is not defined\n",
      "name 'PATH' is not defined\n",
      "name 'PATH' is not defined\n",
      "name 'PATH' is not defined\n",
      "name 'PATH' is not defined\n",
      "Processing metal files\n"
     ]
    },
    {
     "name": "stderr",
     "output_type": "stream",
     "text": [
      "100%|██████████| 100/100 [00:00<00:00, 50315.55it/s]\n"
     ]
    },
    {
     "name": "stdout",
     "output_type": "stream",
     "text": [
      "name 'PATH' is not defined\n",
      "name 'PATH' is not defined\n",
      "name 'PATH' is not defined\n",
      "name 'PATH' is not defined\n",
      "name 'PATH' is not defined\n",
      "name 'PATH' is not defined\n",
      "name 'PATH' is not defined\n",
      "name 'PATH' is not defined\n",
      "name 'PATH' is not defined\n",
      "name 'PATH' is not defined\n",
      "name 'PATH' is not defined\n",
      "name 'PATH' is not defined\n",
      "name 'PATH' is not defined\n",
      "name 'PATH' is not defined\n",
      "name 'PATH' is not defined\n",
      "name 'PATH' is not defined\n",
      "name 'PATH' is not defined\n",
      "name 'PATH' is not defined\n",
      "name 'PATH' is not defined\n",
      "name 'PATH' is not defined\n",
      "name 'PATH' is not defined\n",
      "name 'PATH' is not defined\n",
      "name 'PATH' is not defined\n",
      "name 'PATH' is not defined\n",
      "name 'PATH' is not defined\n",
      "name 'PATH' is not defined\n",
      "name 'PATH' is not defined\n",
      "name 'PATH' is not defined\n",
      "name 'PATH' is not defined\n",
      "name 'PATH' is not defined\n",
      "name 'PATH' is not defined\n",
      "name 'PATH' is not defined\n",
      "name 'PATH' is not defined\n",
      "name 'PATH' is not defined\n",
      "name 'PATH' is not defined\n",
      "name 'PATH' is not defined\n",
      "name 'PATH' is not defined\n",
      "name 'PATH' is not defined\n",
      "name 'PATH' is not defined\n",
      "name 'PATH' is not defined\n",
      "name 'PATH' is not defined\n",
      "name 'PATH' is not defined\n",
      "name 'PATH' is not defined\n",
      "name 'PATH' is not defined\n",
      "name 'PATH' is not defined\n",
      "name 'PATH' is not defined\n",
      "name 'PATH' is not defined\n",
      "name 'PATH' is not defined\n",
      "name 'PATH' is not defined\n",
      "name 'PATH' is not defined\n",
      "name 'PATH' is not defined\n",
      "name 'PATH' is not defined\n",
      "name 'PATH' is not defined\n",
      "name 'PATH' is not defined\n",
      "name 'PATH' is not defined\n",
      "name 'PATH' is not defined\n",
      "name 'PATH' is not defined\n",
      "name 'PATH' is not defined\n",
      "name 'PATH' is not defined\n",
      "name 'PATH' is not defined\n",
      "name 'PATH' is not defined\n",
      "name 'PATH' is not defined\n",
      "name 'PATH' is not defined\n",
      "name 'PATH' is not defined\n",
      "name 'PATH' is not defined\n",
      "name 'PATH' is not defined\n",
      "name 'PATH' is not defined\n",
      "name 'PATH' is not defined\n",
      "name 'PATH' is not defined\n",
      "name 'PATH' is not defined\n",
      "name 'PATH' is not defined\n",
      "name 'PATH' is not defined\n",
      "name 'PATH' is not defined\n",
      "name 'PATH' is not defined\n",
      "name 'PATH' is not defined\n",
      "name 'PATH' is not defined\n",
      "name 'PATH' is not defined\n",
      "name 'PATH' is not defined\n",
      "name 'PATH' is not defined\n",
      "name 'PATH' is not defined\n",
      "name 'PATH' is not defined\n",
      "name 'PATH' is not defined\n",
      "name 'PATH' is not defined\n",
      "name 'PATH' is not defined\n",
      "name 'PATH' is not defined\n",
      "name 'PATH' is not defined\n",
      "name 'PATH' is not defined\n",
      "name 'PATH' is not defined\n",
      "name 'PATH' is not defined\n",
      "name 'PATH' is not defined\n",
      "name 'PATH' is not defined\n",
      "name 'PATH' is not defined\n",
      "name 'PATH' is not defined\n",
      "name 'PATH' is not defined\n",
      "name 'PATH' is not defined\n",
      "name 'PATH' is not defined\n",
      "name 'PATH' is not defined\n",
      "name 'PATH' is not defined\n",
      "name 'PATH' is not defined\n",
      "name 'PATH' is not defined\n",
      "Processing classical files\n"
     ]
    },
    {
     "name": "stderr",
     "output_type": "stream",
     "text": [
      "100%|██████████| 100/100 [00:00<00:00, 98968.95it/s]\n"
     ]
    },
    {
     "name": "stdout",
     "output_type": "stream",
     "text": [
      "name 'PATH' is not defined\n",
      "name 'PATH' is not defined\n",
      "name 'PATH' is not defined\n",
      "name 'PATH' is not defined\n",
      "name 'PATH' is not defined\n",
      "name 'PATH' is not defined\n",
      "name 'PATH' is not defined\n",
      "name 'PATH' is not defined\n",
      "name 'PATH' is not defined\n",
      "name 'PATH' is not defined\n",
      "name 'PATH' is not defined\n",
      "name 'PATH' is not defined\n",
      "name 'PATH' is not defined\n",
      "name 'PATH' is not defined\n",
      "name 'PATH' is not defined\n",
      "name 'PATH' is not defined\n",
      "name 'PATH' is not defined\n",
      "name 'PATH' is not defined\n",
      "name 'PATH' is not defined\n",
      "name 'PATH' is not defined\n",
      "name 'PATH' is not defined\n",
      "name 'PATH' is not defined\n",
      "name 'PATH' is not defined\n",
      "name 'PATH' is not defined\n",
      "name 'PATH' is not defined\n",
      "name 'PATH' is not defined\n",
      "name 'PATH' is not defined\n",
      "name 'PATH' is not defined\n",
      "name 'PATH' is not defined\n",
      "name 'PATH' is not defined\n",
      "name 'PATH' is not defined\n",
      "name 'PATH' is not defined\n",
      "name 'PATH' is not defined\n",
      "name 'PATH' is not defined\n",
      "name 'PATH' is not defined\n",
      "name 'PATH' is not defined\n",
      "name 'PATH' is not defined\n",
      "name 'PATH' is not defined\n",
      "name 'PATH' is not defined\n",
      "name 'PATH' is not defined\n",
      "name 'PATH' is not defined\n",
      "name 'PATH' is not defined\n",
      "name 'PATH' is not defined\n",
      "name 'PATH' is not defined\n",
      "name 'PATH' is not defined\n",
      "name 'PATH' is not defined\n",
      "name 'PATH' is not defined\n",
      "name 'PATH' is not defined\n",
      "name 'PATH' is not defined\n",
      "name 'PATH' is not defined\n",
      "name 'PATH' is not defined\n",
      "name 'PATH' is not defined\n",
      "name 'PATH' is not defined\n",
      "name 'PATH' is not defined\n",
      "name 'PATH' is not defined\n",
      "name 'PATH' is not defined\n",
      "name 'PATH' is not defined\n",
      "name 'PATH' is not defined\n",
      "name 'PATH' is not defined\n",
      "name 'PATH' is not defined\n",
      "name 'PATH' is not defined\n",
      "name 'PATH' is not defined\n",
      "name 'PATH' is not defined\n",
      "name 'PATH' is not defined\n",
      "name 'PATH' is not defined\n",
      "name 'PATH' is not defined\n",
      "name 'PATH' is not defined\n",
      "name 'PATH' is not defined\n",
      "name 'PATH' is not defined\n",
      "name 'PATH' is not defined\n",
      "name 'PATH' is not defined\n",
      "name 'PATH' is not defined\n",
      "name 'PATH' is not defined\n",
      "name 'PATH' is not defined\n",
      "name 'PATH' is not defined\n",
      "name 'PATH' is not defined\n",
      "name 'PATH' is not defined\n",
      "name 'PATH' is not defined\n",
      "name 'PATH' is not defined\n",
      "name 'PATH' is not defined\n",
      "name 'PATH' is not defined\n",
      "name 'PATH' is not defined\n",
      "name 'PATH' is not defined\n",
      "name 'PATH' is not defined\n",
      "name 'PATH' is not defined\n",
      "name 'PATH' is not defined\n",
      "name 'PATH' is not defined\n",
      "name 'PATH' is not defined\n",
      "name 'PATH' is not defined\n",
      "name 'PATH' is not defined\n",
      "name 'PATH' is not defined\n",
      "name 'PATH' is not defined\n",
      "name 'PATH' is not defined\n",
      "name 'PATH' is not defined\n",
      "name 'PATH' is not defined\n",
      "name 'PATH' is not defined\n",
      "name 'PATH' is not defined\n",
      "name 'PATH' is not defined\n",
      "name 'PATH' is not defined\n",
      "name 'PATH' is not defined\n",
      "Processing rock files\n"
     ]
    },
    {
     "name": "stderr",
     "output_type": "stream",
     "text": [
      "100%|██████████| 100/100 [00:00<00:00, 99273.47it/s]\n"
     ]
    },
    {
     "name": "stdout",
     "output_type": "stream",
     "text": [
      "name 'PATH' is not defined\n",
      "name 'PATH' is not defined\n",
      "name 'PATH' is not defined\n",
      "name 'PATH' is not defined\n",
      "name 'PATH' is not defined\n",
      "name 'PATH' is not defined\n",
      "name 'PATH' is not defined\n",
      "name 'PATH' is not defined\n",
      "name 'PATH' is not defined\n",
      "name 'PATH' is not defined\n",
      "name 'PATH' is not defined\n",
      "name 'PATH' is not defined\n",
      "name 'PATH' is not defined\n",
      "name 'PATH' is not defined\n",
      "name 'PATH' is not defined\n",
      "name 'PATH' is not defined\n",
      "name 'PATH' is not defined\n",
      "name 'PATH' is not defined\n",
      "name 'PATH' is not defined\n",
      "name 'PATH' is not defined\n",
      "name 'PATH' is not defined\n",
      "name 'PATH' is not defined\n",
      "name 'PATH' is not defined\n",
      "name 'PATH' is not defined\n",
      "name 'PATH' is not defined\n",
      "name 'PATH' is not defined\n",
      "name 'PATH' is not defined\n",
      "name 'PATH' is not defined\n",
      "name 'PATH' is not defined\n",
      "name 'PATH' is not defined\n",
      "name 'PATH' is not defined\n",
      "name 'PATH' is not defined\n",
      "name 'PATH' is not defined\n",
      "name 'PATH' is not defined\n",
      "name 'PATH' is not defined\n",
      "name 'PATH' is not defined\n",
      "name 'PATH' is not defined\n",
      "name 'PATH' is not defined\n",
      "name 'PATH' is not defined\n",
      "name 'PATH' is not defined\n",
      "name 'PATH' is not defined\n",
      "name 'PATH' is not defined\n",
      "name 'PATH' is not defined\n",
      "name 'PATH' is not defined\n",
      "name 'PATH' is not defined\n",
      "name 'PATH' is not defined\n",
      "name 'PATH' is not defined\n",
      "name 'PATH' is not defined\n",
      "name 'PATH' is not defined\n",
      "name 'PATH' is not defined\n",
      "name 'PATH' is not defined\n",
      "name 'PATH' is not defined\n",
      "name 'PATH' is not defined\n",
      "name 'PATH' is not defined\n",
      "name 'PATH' is not defined\n",
      "name 'PATH' is not defined\n",
      "name 'PATH' is not defined\n",
      "name 'PATH' is not defined\n",
      "name 'PATH' is not defined\n",
      "name 'PATH' is not defined\n",
      "name 'PATH' is not defined\n",
      "name 'PATH' is not defined\n",
      "name 'PATH' is not defined\n",
      "name 'PATH' is not defined\n",
      "name 'PATH' is not defined\n",
      "name 'PATH' is not defined\n",
      "name 'PATH' is not defined\n",
      "name 'PATH' is not defined\n",
      "name 'PATH' is not defined\n",
      "name 'PATH' is not defined\n",
      "name 'PATH' is not defined\n",
      "name 'PATH' is not defined\n",
      "name 'PATH' is not defined\n",
      "name 'PATH' is not defined\n",
      "name 'PATH' is not defined\n",
      "name 'PATH' is not defined\n",
      "name 'PATH' is not defined\n",
      "name 'PATH' is not defined\n",
      "name 'PATH' is not defined\n",
      "name 'PATH' is not defined\n",
      "name 'PATH' is not defined\n",
      "name 'PATH' is not defined\n",
      "name 'PATH' is not defined\n",
      "name 'PATH' is not defined\n",
      "name 'PATH' is not defined\n",
      "name 'PATH' is not defined\n",
      "name 'PATH' is not defined\n",
      "name 'PATH' is not defined\n",
      "name 'PATH' is not defined\n",
      "name 'PATH' is not defined\n",
      "name 'PATH' is not defined\n",
      "name 'PATH' is not defined\n",
      "name 'PATH' is not defined\n",
      "name 'PATH' is not defined\n",
      "name 'PATH' is not defined\n",
      "name 'PATH' is not defined\n",
      "name 'PATH' is not defined\n",
      "name 'PATH' is not defined\n",
      "name 'PATH' is not defined\n",
      "name 'PATH' is not defined\n",
      "Processing reggae files\n"
     ]
    },
    {
     "name": "stderr",
     "output_type": "stream",
     "text": [
      "100%|██████████| 100/100 [00:00<00:00, 97951.99it/s]"
     ]
    },
    {
     "name": "stdout",
     "output_type": "stream",
     "text": [
      "name 'PATH' is not defined\n",
      "name 'PATH' is not defined\n",
      "name 'PATH' is not defined\n",
      "name 'PATH' is not defined\n",
      "name 'PATH' is not defined\n",
      "name 'PATH' is not defined\n",
      "name 'PATH' is not defined\n",
      "name 'PATH' is not defined\n",
      "name 'PATH' is not defined\n",
      "name 'PATH' is not defined\n",
      "name 'PATH' is not defined\n",
      "name 'PATH' is not defined\n",
      "name 'PATH' is not defined\n",
      "name 'PATH' is not defined\n",
      "name 'PATH' is not defined\n",
      "name 'PATH' is not defined\n",
      "name 'PATH' is not defined\n",
      "name 'PATH' is not defined\n",
      "name 'PATH' is not defined\n",
      "name 'PATH' is not defined\n",
      "name 'PATH' is not defined\n",
      "name 'PATH' is not defined\n",
      "name 'PATH' is not defined\n",
      "name 'PATH' is not defined\n",
      "name 'PATH' is not defined\n",
      "name 'PATH' is not defined\n",
      "name 'PATH' is not defined\n",
      "name 'PATH' is not defined\n",
      "name 'PATH' is not defined\n",
      "name 'PATH' is not defined\n",
      "name 'PATH' is not defined\n",
      "name 'PATH' is not defined\n",
      "name 'PATH' is not defined\n",
      "name 'PATH' is not defined\n",
      "name 'PATH' is not defined\n",
      "name 'PATH' is not defined\n",
      "name 'PATH' is not defined\n",
      "name 'PATH' is not defined\n",
      "name 'PATH' is not defined\n",
      "name 'PATH' is not defined\n",
      "name 'PATH' is not defined\n",
      "name 'PATH' is not defined\n",
      "name 'PATH' is not defined\n",
      "name 'PATH' is not defined\n",
      "name 'PATH' is not defined\n",
      "name 'PATH' is not defined\n",
      "name 'PATH' is not defined\n",
      "name 'PATH' is not defined\n",
      "name 'PATH' is not defined\n",
      "name 'PATH' is not defined\n",
      "name 'PATH' is not defined\n",
      "name 'PATH' is not defined\n",
      "name 'PATH' is not defined\n",
      "name 'PATH' is not defined\n",
      "name 'PATH' is not defined\n",
      "name 'PATH' is not defined\n",
      "name 'PATH' is not defined\n",
      "name 'PATH' is not defined\n",
      "name 'PATH' is not defined\n",
      "name 'PATH' is not defined\n",
      "name 'PATH' is not defined\n",
      "name 'PATH' is not defined\n",
      "name 'PATH' is not defined\n",
      "name 'PATH' is not defined\n",
      "name 'PATH' is not defined\n",
      "name 'PATH' is not defined\n",
      "name 'PATH' is not defined\n",
      "name 'PATH' is not defined\n",
      "name 'PATH' is not defined\n",
      "name 'PATH' is not defined\n",
      "name 'PATH' is not defined\n",
      "name 'PATH' is not defined\n",
      "name 'PATH' is not defined\n",
      "name 'PATH' is not defined\n",
      "name 'PATH' is not defined\n",
      "name 'PATH' is not defined\n",
      "name 'PATH' is not defined\n",
      "name 'PATH' is not defined\n",
      "name 'PATH' is not defined\n",
      "name 'PATH' is not defined\n",
      "name 'PATH' is not defined\n",
      "name 'PATH' is not defined\n",
      "name 'PATH' is not defined\n",
      "name 'PATH' is not defined\n",
      "name 'PATH' is not defined\n",
      "name 'PATH' is not defined\n",
      "name 'PATH' is not defined\n",
      "name 'PATH' is not defined\n",
      "name 'PATH' is not defined\n",
      "name 'PATH' is not defined\n",
      "name 'PATH' is not defined\n",
      "name 'PATH' is not defined\n",
      "name 'PATH' is not defined\n",
      "name 'PATH' is not defined\n",
      "name 'PATH' is not defined\n",
      "name 'PATH' is not defined\n",
      "name 'PATH' is not defined\n",
      "name 'PATH' is not defined\n",
      "name 'PATH' is not defined\n",
      "name 'PATH' is not defined\n"
     ]
    },
    {
     "name": "stderr",
     "output_type": "stream",
     "text": [
      "\n"
     ]
    },
    {
     "ename": "FileNotFoundError",
     "evalue": "[Errno 2] No such file or directory: './working_data/3s_block_1s_hop/data.npy'",
     "output_type": "error",
     "traceback": [
      "\u001b[0;31m---------------------------------------------------------------------------\u001b[0m",
      "\u001b[0;31mFileNotFoundError\u001b[0m                         Traceback (most recent call last)",
      "\u001b[1;32m/usr/research/drive/Vedant/src/test.ipynb Cell 3'\u001b[0m in \u001b[0;36m<cell line: 1>\u001b[0;34m()\u001b[0m\n\u001b[0;32m----> <a href='vscode-notebook-cell://attached-container%2B7b22636f6e7461696e65724e616d65223a222f776f726b222c2273657474696e6773223a7b22686f7374223a227373683a2f2f636f63686c2e697074696d652e6f7267227d7d/usr/research/drive/Vedant/src/test.ipynb#ch0000002vscode-remote?line=0'>1</a>\u001b[0m preprocess\u001b[39m.\u001b[39;49mprocess_files(PATH, \u001b[39m3\u001b[39;49m, \u001b[39m1\u001b[39;49m)\n",
      "File \u001b[0;32m/usr/research/drive/Vedant/src/preprocess.py:57\u001b[0m, in \u001b[0;36mprocess_files\u001b[0;34m(path, blocksize, hopsize)\u001b[0m\n\u001b[1;32m     <a href='file:///usr/research/drive/Vedant/src/preprocess.py?line=54'>55</a>\u001b[0m df[\u001b[39m'\u001b[39m\u001b[39mlabel\u001b[39m\u001b[39m'\u001b[39m] \u001b[39m=\u001b[39m labels\n\u001b[1;32m     <a href='file:///usr/research/drive/Vedant/src/preprocess.py?line=55'>56</a>\u001b[0m out \u001b[39m=\u001b[39m df\u001b[39m.\u001b[39mto_numpy()\n\u001b[0;32m---> <a href='file:///usr/research/drive/Vedant/src/preprocess.py?line=56'>57</a>\u001b[0m np\u001b[39m.\u001b[39;49msave(\u001b[39mf\u001b[39;49m\u001b[39m'\u001b[39;49m\u001b[39m./working_data/\u001b[39;49m\u001b[39m{\u001b[39;49;00mblocksize\u001b[39m}\u001b[39;49;00m\u001b[39ms_block_\u001b[39;49m\u001b[39m{\u001b[39;49;00mhopsize\u001b[39m}\u001b[39;49;00m\u001b[39ms_hop/data.npy\u001b[39;49m\u001b[39m'\u001b[39;49m, out)\n",
      "File \u001b[0;32m<__array_function__ internals>:180\u001b[0m, in \u001b[0;36msave\u001b[0;34m(*args, **kwargs)\u001b[0m\n",
      "File \u001b[0;32m/usr/local/lib/python3.8/dist-packages/numpy/lib/npyio.py:515\u001b[0m, in \u001b[0;36msave\u001b[0;34m(file, arr, allow_pickle, fix_imports)\u001b[0m\n\u001b[1;32m    <a href='file:///usr/local/lib/python3.8/dist-packages/numpy/lib/npyio.py?line=512'>513</a>\u001b[0m     \u001b[39mif\u001b[39;00m \u001b[39mnot\u001b[39;00m file\u001b[39m.\u001b[39mendswith(\u001b[39m'\u001b[39m\u001b[39m.npy\u001b[39m\u001b[39m'\u001b[39m):\n\u001b[1;32m    <a href='file:///usr/local/lib/python3.8/dist-packages/numpy/lib/npyio.py?line=513'>514</a>\u001b[0m         file \u001b[39m=\u001b[39m file \u001b[39m+\u001b[39m \u001b[39m'\u001b[39m\u001b[39m.npy\u001b[39m\u001b[39m'\u001b[39m\n\u001b[0;32m--> <a href='file:///usr/local/lib/python3.8/dist-packages/numpy/lib/npyio.py?line=514'>515</a>\u001b[0m     file_ctx \u001b[39m=\u001b[39m \u001b[39mopen\u001b[39;49m(file, \u001b[39m\"\u001b[39;49m\u001b[39mwb\u001b[39;49m\u001b[39m\"\u001b[39;49m)\n\u001b[1;32m    <a href='file:///usr/local/lib/python3.8/dist-packages/numpy/lib/npyio.py?line=516'>517</a>\u001b[0m \u001b[39mwith\u001b[39;00m file_ctx \u001b[39mas\u001b[39;00m fid:\n\u001b[1;32m    <a href='file:///usr/local/lib/python3.8/dist-packages/numpy/lib/npyio.py?line=517'>518</a>\u001b[0m     arr \u001b[39m=\u001b[39m np\u001b[39m.\u001b[39masanyarray(arr)\n",
      "\u001b[0;31mFileNotFoundError\u001b[0m: [Errno 2] No such file or directory: './working_data/3s_block_1s_hop/data.npy'"
     ]
    }
   ],
   "source": [
    "preprocess.process_files(PATH, 3, 1)"
   ]
  },
  {
   "cell_type": "code",
   "execution_count": 6,
   "metadata": {},
   "outputs": [
    {
     "data": {
      "text/html": [
       "<div>\n",
       "<style scoped>\n",
       "    .dataframe tbody tr th:only-of-type {\n",
       "        vertical-align: middle;\n",
       "    }\n",
       "\n",
       "    .dataframe tbody tr th {\n",
       "        vertical-align: top;\n",
       "    }\n",
       "\n",
       "    .dataframe thead th {\n",
       "        text-align: right;\n",
       "    }\n",
       "</style>\n",
       "<table border=\"1\" class=\"dataframe\">\n",
       "  <thead>\n",
       "    <tr style=\"text-align: right;\">\n",
       "      <th></th>\n",
       "      <th>audio</th>\n",
       "      <th>melspec</th>\n",
       "      <th>label</th>\n",
       "    </tr>\n",
       "  </thead>\n",
       "  <tbody>\n",
       "    <tr>\n",
       "      <th>0</th>\n",
       "      <td>[0.7092849612236023, 0.5320729613304138, 0.286...</td>\n",
       "      <td>[[-10.983954171604147, -7.614372770525382, -6....</td>\n",
       "      <td>pop</td>\n",
       "    </tr>\n",
       "    <tr>\n",
       "      <th>1</th>\n",
       "      <td>[0.06586777418851852, 0.08585505932569504, 0.0...</td>\n",
       "      <td>[[-34.545366849410655, -31.90809386292815, -32...</td>\n",
       "      <td>pop</td>\n",
       "    </tr>\n",
       "    <tr>\n",
       "      <th>2</th>\n",
       "      <td>[-0.15317505598068237, -0.1191829964518547, -0...</td>\n",
       "      <td>[[-55.4434162179103, -62.055048445114515, -69....</td>\n",
       "      <td>pop</td>\n",
       "    </tr>\n",
       "    <tr>\n",
       "      <th>3</th>\n",
       "      <td>[0.2638251781463623, 0.29334208369255066, 0.30...</td>\n",
       "      <td>[[-16.821077549174735, -9.7552262265737, -8.80...</td>\n",
       "      <td>pop</td>\n",
       "    </tr>\n",
       "    <tr>\n",
       "      <th>4</th>\n",
       "      <td>[-0.21769361197948456, -0.01245081052184105, -...</td>\n",
       "      <td>[[-7.420879304207965, -4.61488802560244, -5.54...</td>\n",
       "      <td>pop</td>\n",
       "    </tr>\n",
       "    <tr>\n",
       "      <th>...</th>\n",
       "      <td>...</td>\n",
       "      <td>...</td>\n",
       "      <td>...</td>\n",
       "    </tr>\n",
       "    <tr>\n",
       "      <th>30954</th>\n",
       "      <td>[0.06790105998516083, 0.06367199122905731, 0.0...</td>\n",
       "      <td>[[-23.257755185198793, -23.440252443017314, -2...</td>\n",
       "      <td>reggae</td>\n",
       "    </tr>\n",
       "    <tr>\n",
       "      <th>30955</th>\n",
       "      <td>[-0.011190357618033886, -0.004760471172630787,...</td>\n",
       "      <td>[[-38.93165692179263, -36.38457109964692, -33....</td>\n",
       "      <td>reggae</td>\n",
       "    </tr>\n",
       "    <tr>\n",
       "      <th>30956</th>\n",
       "      <td>[-0.23096606135368347, -0.23396214842796326, -...</td>\n",
       "      <td>[[-9.466772240359223, -10.443182129367155, -13...</td>\n",
       "      <td>reggae</td>\n",
       "    </tr>\n",
       "    <tr>\n",
       "      <th>30957</th>\n",
       "      <td>[0.056767627596855164, 0.05592524632811546, 0....</td>\n",
       "      <td>[[-30.40183162320119, -29.573339673666407, -31...</td>\n",
       "      <td>reggae</td>\n",
       "    </tr>\n",
       "    <tr>\n",
       "      <th>30958</th>\n",
       "      <td>[0.023841802030801773, 0.023348893970251083, 0...</td>\n",
       "      <td>[[-0.8009558505021026, -6.723542306488184, -73...</td>\n",
       "      <td>reggae</td>\n",
       "    </tr>\n",
       "  </tbody>\n",
       "</table>\n",
       "<p>30959 rows × 3 columns</p>\n",
       "</div>"
      ],
      "text/plain": [
       "                                                   audio  \\\n",
       "0      [0.7092849612236023, 0.5320729613304138, 0.286...   \n",
       "1      [0.06586777418851852, 0.08585505932569504, 0.0...   \n",
       "2      [-0.15317505598068237, -0.1191829964518547, -0...   \n",
       "3      [0.2638251781463623, 0.29334208369255066, 0.30...   \n",
       "4      [-0.21769361197948456, -0.01245081052184105, -...   \n",
       "...                                                  ...   \n",
       "30954  [0.06790105998516083, 0.06367199122905731, 0.0...   \n",
       "30955  [-0.011190357618033886, -0.004760471172630787,...   \n",
       "30956  [-0.23096606135368347, -0.23396214842796326, -...   \n",
       "30957  [0.056767627596855164, 0.05592524632811546, 0....   \n",
       "30958  [0.023841802030801773, 0.023348893970251083, 0...   \n",
       "\n",
       "                                                 melspec   label  \n",
       "0      [[-10.983954171604147, -7.614372770525382, -6....     pop  \n",
       "1      [[-34.545366849410655, -31.90809386292815, -32...     pop  \n",
       "2      [[-55.4434162179103, -62.055048445114515, -69....     pop  \n",
       "3      [[-16.821077549174735, -9.7552262265737, -8.80...     pop  \n",
       "4      [[-7.420879304207965, -4.61488802560244, -5.54...     pop  \n",
       "...                                                  ...     ...  \n",
       "30954  [[-23.257755185198793, -23.440252443017314, -2...  reggae  \n",
       "30955  [[-38.93165692179263, -36.38457109964692, -33....  reggae  \n",
       "30956  [[-9.466772240359223, -10.443182129367155, -13...  reggae  \n",
       "30957  [[-30.40183162320119, -29.573339673666407, -31...  reggae  \n",
       "30958  [[-0.8009558505021026, -6.723542306488184, -73...  reggae  \n",
       "\n",
       "[30959 rows x 3 columns]"
      ]
     },
     "execution_count": 6,
     "metadata": {},
     "output_type": "execute_result"
    }
   ],
   "source": [
    "df = pd.DataFrame(np.load(f'./working_data/3s_block_1s_hop/data.npy',allow_pickle=True),columns=['audio','melspec','label'])\n",
    "X = df['melspec'].to_numpy()\n",
    "y = df['label'].to_numpy()"
   ]
  },
  {
   "cell_type": "code",
   "execution_count": 12,
   "metadata": {},
   "outputs": [],
   "source": [
    "X = df['melspec'].to_numpy()\n",
    "y = df['label'].to_numpy()"
   ]
  },
  {
   "cell_type": "code",
   "execution_count": 11,
   "metadata": {},
   "outputs": [
    {
     "data": {
      "text/plain": [
       "('../../datasets/gtzan/Data/genres_original',\n",
       " ['pop',\n",
       "  'disco',\n",
       "  'blues',\n",
       "  'hiphop',\n",
       "  'country',\n",
       "  'jazz',\n",
       "  'metal',\n",
       "  'classical',\n",
       "  'rock',\n",
       "  'reggae'],\n",
       " [])"
      ]
     },
     "execution_count": 11,
     "metadata": {},
     "output_type": "execute_result"
    }
   ],
   "source": [
    "next(os.walk(PATH))"
   ]
  },
  {
   "cell_type": "code",
   "execution_count": 4,
   "metadata": {},
   "outputs": [
    {
     "data": {
      "text/plain": [
       "['jazz.00064.wav',\n",
       " 'jazz.00065.wav',\n",
       " 'jazz.00060.wav',\n",
       " 'jazz.00059.wav',\n",
       " 'jazz.00030.wav',\n",
       " 'jazz.00052.wav',\n",
       " 'jazz.00001.wav',\n",
       " 'jazz.00028.wav',\n",
       " 'jazz.00089.wav',\n",
       " 'jazz.00006.wav',\n",
       " 'jazz.00096.wav',\n",
       " 'jazz.00041.wav',\n",
       " 'jazz.00086.wav',\n",
       " 'jazz.00034.wav',\n",
       " 'jazz.00024.wav',\n",
       " 'jazz.00021.wav',\n",
       " 'jazz.00087.wav',\n",
       " 'jazz.00079.wav',\n",
       " 'jazz.00090.wav',\n",
       " 'jazz.00057.wav',\n",
       " 'jazz.00020.wav',\n",
       " 'jazz.00053.wav',\n",
       " 'jazz.00074.wav',\n",
       " 'jazz.00022.wav',\n",
       " 'jazz.00068.wav',\n",
       " 'jazz.00004.wav',\n",
       " 'jazz.00054.wav',\n",
       " 'jazz.00029.wav',\n",
       " 'jazz.00038.wav',\n",
       " 'jazz.00014.wav',\n",
       " 'jazz.00067.wav',\n",
       " 'jazz.00011.wav',\n",
       " 'jazz.00031.wav',\n",
       " 'jazz.00085.wav',\n",
       " 'jazz.00008.wav',\n",
       " 'jazz.00062.wav',\n",
       " 'jazz.00098.wav',\n",
       " 'jazz.00032.wav',\n",
       " 'jazz.00002.wav',\n",
       " 'jazz.00026.wav',\n",
       " 'jazz.00063.wav',\n",
       " 'jazz.00012.wav',\n",
       " 'jazz.00049.wav',\n",
       " 'jazz.00044.wav',\n",
       " 'jazz.00046.wav',\n",
       " 'jazz.00016.wav',\n",
       " 'jazz.00040.wav',\n",
       " 'jazz.00082.wav',\n",
       " 'jazz.00003.wav',\n",
       " 'jazz.00035.wav',\n",
       " 'jazz.00088.wav',\n",
       " 'jazz.00043.wav',\n",
       " 'jazz.00091.wav',\n",
       " 'jazz.00010.wav',\n",
       " 'jazz.00069.wav',\n",
       " 'jazz.00075.wav',\n",
       " 'jazz.00013.wav',\n",
       " 'jazz.00097.wav',\n",
       " 'jazz.00036.wav',\n",
       " 'jazz.00005.wav',\n",
       " 'jazz.00078.wav',\n",
       " 'jazz.00047.wav',\n",
       " 'jazz.00081.wav',\n",
       " 'jazz.00027.wav',\n",
       " 'jazz.00099.wav',\n",
       " 'jazz.00070.wav',\n",
       " 'jazz.00076.wav',\n",
       " 'jazz.00071.wav',\n",
       " 'jazz.00058.wav',\n",
       " 'jazz.00033.wav',\n",
       " 'jazz.00092.wav',\n",
       " 'jazz.00084.wav',\n",
       " 'jazz.00055.wav',\n",
       " 'jazz.00015.wav',\n",
       " 'jazz.00077.wav',\n",
       " 'jazz.00007.wav',\n",
       " 'jazz.00072.wav',\n",
       " 'jazz.00037.wav',\n",
       " 'jazz.00042.wav',\n",
       " 'jazz.00080.wav',\n",
       " 'jazz.00023.wav',\n",
       " 'jazz.00025.wav',\n",
       " 'jazz.00061.wav',\n",
       " 'jazz.00048.wav',\n",
       " 'jazz.00045.wav',\n",
       " 'jazz.00009.wav',\n",
       " 'jazz.00093.wav',\n",
       " 'jazz.00018.wav',\n",
       " 'jazz.00073.wav',\n",
       " 'jazz.00051.wav',\n",
       " 'jazz.00017.wav',\n",
       " 'jazz.00019.wav',\n",
       " 'jazz.00056.wav',\n",
       " 'jazz.00039.wav',\n",
       " 'jazz.00095.wav',\n",
       " 'jazz.00094.wav',\n",
       " 'jazz.00050.wav',\n",
       " 'jazz.00083.wav',\n",
       " 'jazz.00000.wav',\n",
       " 'jazz.00066.wav']"
      ]
     },
     "execution_count": 4,
     "metadata": {},
     "output_type": "execute_result"
    }
   ],
   "source": [
    "_, _, fileList = next(os.walk(os.path.join('../../datasets/gtzan/Data/genres_original','jazz')))\n",
    "fileList"
   ]
  },
  {
   "cell_type": "code",
   "execution_count": 3,
   "metadata": {},
   "outputs": [
    {
     "ename": "NameError",
     "evalue": "name 'subdir' is not defined",
     "output_type": "error",
     "traceback": [
      "\u001b[0;31m---------------------------------------------------------------------------\u001b[0m",
      "\u001b[0;31mNameError\u001b[0m                                 Traceback (most recent call last)",
      "\u001b[1;32m/usr/research/drive/Vedant/src/test.ipynb Cell 7'\u001b[0m in \u001b[0;36m<cell line: 2>\u001b[0;34m()\u001b[0m\n\u001b[1;32m      <a href='vscode-notebook-cell://attached-container%2B7b22636f6e7461696e65724e616d65223a222f776f726b222c2273657474696e6773223a7b22686f7374223a227373683a2f2f636f63686c2e697074696d652e6f7267227d7d/usr/research/drive/Vedant/src/test.ipynb#ch0000006vscode-remote?line=0'>1</a>\u001b[0m _, _, fileList \u001b[39m=\u001b[39m \u001b[39mnext\u001b[39m(os\u001b[39m.\u001b[39mwalk(os\u001b[39m.\u001b[39mpath\u001b[39m.\u001b[39mjoin(\u001b[39m'\u001b[39m\u001b[39m../../datasets/gtzan/Data/genres_original\u001b[39m\u001b[39m'\u001b[39m,\u001b[39m'\u001b[39m\u001b[39mjazz\u001b[39m\u001b[39m'\u001b[39m)))\n\u001b[0;32m----> <a href='vscode-notebook-cell://attached-container%2B7b22636f6e7461696e65724e616d65223a222f776f726b222c2273657474696e6773223a7b22686f7374223a227373683a2f2f636f63686c2e697074696d652e6f7267227d7d/usr/research/drive/Vedant/src/test.ipynb#ch0000006vscode-remote?line=1'>2</a>\u001b[0m \u001b[39mprint\u001b[39m(\u001b[39mf\u001b[39m\u001b[39m\"\u001b[39m\u001b[39mProcessing \u001b[39m\u001b[39m{\u001b[39;00msubdir\u001b[39m}\u001b[39;00m\u001b[39m files\u001b[39m\u001b[39m\"\u001b[39m)\n\u001b[1;32m      <a href='vscode-notebook-cell://attached-container%2B7b22636f6e7461696e65724e616d65223a222f776f726b222c2273657474696e6773223a7b22686f7374223a227373683a2f2f636f63686c2e697074696d652e6f7267227d7d/usr/research/drive/Vedant/src/test.ipynb#ch0000006vscode-remote?line=2'>3</a>\u001b[0m \u001b[39mfor\u001b[39;00m filename \u001b[39min\u001b[39;00m tqdm(fileList):\n\u001b[1;32m      <a href='vscode-notebook-cell://attached-container%2B7b22636f6e7461696e65724e616d65223a222f776f726b222c2273657474696e6773223a7b22686f7374223a227373683a2f2f636f63686c2e697074696d652e6f7267227d7d/usr/research/drive/Vedant/src/test.ipynb#ch0000006vscode-remote?line=3'>4</a>\u001b[0m     \u001b[39m# print(f\"processing {filename}\")\u001b[39;00m\n\u001b[1;32m      <a href='vscode-notebook-cell://attached-container%2B7b22636f6e7461696e65724e616d65223a222f776f726b222c2273657474696e6773223a7b22686f7374223a227373683a2f2f636f63686c2e697074696d652e6f7267227d7d/usr/research/drive/Vedant/src/test.ipynb#ch0000006vscode-remote?line=4'>5</a>\u001b[0m     \u001b[39mtry\u001b[39;00m:\n",
      "\u001b[0;31mNameError\u001b[0m: name 'subdir' is not defined"
     ]
    }
   ],
   "source": [
    "_, _, fileList = next(os.walk(os.path.join('../../datasets/gtzan/Data/genres_original','jazz')))\n",
    "print(f\"Processing {subdir} files\")\n",
    "for filename in tqdm(fileList):\n",
    "    # print(f\"processing {filename}\")\n",
    "    try:\n",
    "        x,sr = librosa.load(os.path.join(PATH, subdir, filename), sr=44100)\n",
    "        xb,ts,_ = block_audio(x, blocksize*sr, hopsize*sr, sr)\n",
    "        for i in range(xb.shape[0]):\n",
    "            labels.append(subdir)\n",
    "            mel_specs.append(librosa.power_to_db(librosa.feature.melspectrogram(y=xb[i], sr=sr, n_mels=128, fmax=22050), ref=np.max))\n",
    "            audio_files.append(xb[i])\n",
    "            # sf.write(f'{filename}_start_{ts[i]}.wav')\n",
    "\n",
    "    except Exception as e:\n",
    "        print(e)\n",
    "        continue"
   ]
  },
  {
   "cell_type": "code",
   "execution_count": 2,
   "metadata": {},
   "outputs": [
    {
     "name": "stderr",
     "output_type": "stream",
     "text": [
      "2022-05-29 07:50:10.739787: I tensorflow/core/platform/cpu_feature_guard.cc:193] This TensorFlow binary is optimized with oneAPI Deep Neural Network Library (oneDNN) to use the following CPU instructions in performance-critical operations:  AVX2 AVX512F AVX512_VNNI FMA\n",
      "To enable them in other operations, rebuild TensorFlow with the appropriate compiler flags.\n",
      "2022-05-29 07:50:12.048201: I tensorflow/core/common_runtime/gpu/gpu_device.cc:1532] Created device /job:localhost/replica:0/task:0/device:GPU:0 with 9650 MB memory:  -> device: 0, name: NVIDIA GeForce RTX 2080 Ti, pci bus id: 0000:17:00.0, compute capability: 7.5\n",
      "2022-05-29 07:50:12.050001: I tensorflow/core/common_runtime/gpu/gpu_device.cc:1532] Created device /job:localhost/replica:0/task:0/device:GPU:1 with 9650 MB memory:  -> device: 1, name: NVIDIA GeForce RTX 2080 Ti, pci bus id: 0000:18:00.0, compute capability: 7.5\n",
      "2022-05-29 07:50:12.051676: I tensorflow/core/common_runtime/gpu/gpu_device.cc:1532] Created device /job:localhost/replica:0/task:0/device:GPU:2 with 9649 MB memory:  -> device: 2, name: NVIDIA GeForce RTX 2080 Ti, pci bus id: 0000:65:00.0, compute capability: 7.5\n"
     ]
    },
    {
     "name": "stdout",
     "output_type": "stream",
     "text": [
      "Running  ResNet  model\n"
     ]
    },
    {
     "name": "stderr",
     "output_type": "stream",
     "text": [
      "2022-05-29 07:50:28.450920: W tensorflow/core/common_runtime/bfc_allocator.cc:479] Allocator (GPU_0_bfc) ran out of memory trying to allocate 9.48GiB (rounded to 10184294400)requested by op RandomUniform\n",
      "If the cause is memory fragmentation maybe the environment variable 'TF_GPU_ALLOCATOR=cuda_malloc_async' will improve the situation. \n",
      "Current allocation summary follows.\n",
      "Current allocation summary follows.\n",
      "2022-05-29 07:50:28.450997: I tensorflow/core/common_runtime/bfc_allocator.cc:1027] BFCAllocator dump for GPU_0_bfc\n",
      "2022-05-29 07:50:28.451023: I tensorflow/core/common_runtime/bfc_allocator.cc:1034] Bin (256): \tTotal Chunks: 12, Chunks in use: 12. 3.0KiB allocated for chunks. 3.0KiB in use in bin. 57B client-requested in use in bin.\n",
      "2022-05-29 07:50:28.451037: I tensorflow/core/common_runtime/bfc_allocator.cc:1034] Bin (512): \tTotal Chunks: 0, Chunks in use: 0. 0B allocated for chunks. 0B in use in bin. 0B client-requested in use in bin.\n",
      "2022-05-29 07:50:28.451055: I tensorflow/core/common_runtime/bfc_allocator.cc:1034] Bin (1024): \tTotal Chunks: 16, Chunks in use: 16. 16.2KiB allocated for chunks. 16.2KiB in use in bin. 16.0KiB client-requested in use in bin.\n",
      "2022-05-29 07:50:28.451069: I tensorflow/core/common_runtime/bfc_allocator.cc:1034] Bin (2048): \tTotal Chunks: 0, Chunks in use: 0. 0B allocated for chunks. 0B in use in bin. 0B client-requested in use in bin.\n",
      "2022-05-29 07:50:28.451080: I tensorflow/core/common_runtime/bfc_allocator.cc:1034] Bin (4096): \tTotal Chunks: 0, Chunks in use: 0. 0B allocated for chunks. 0B in use in bin. 0B client-requested in use in bin.\n",
      "2022-05-29 07:50:28.451094: I tensorflow/core/common_runtime/bfc_allocator.cc:1034] Bin (8192): \tTotal Chunks: 1, Chunks in use: 0. 15.8KiB allocated for chunks. 0B in use in bin. 0B client-requested in use in bin.\n",
      "2022-05-29 07:50:28.451108: I tensorflow/core/common_runtime/bfc_allocator.cc:1034] Bin (16384): \tTotal Chunks: 1, Chunks in use: 1. 16.0KiB allocated for chunks. 16.0KiB in use in bin. 16.0KiB client-requested in use in bin.\n",
      "2022-05-29 07:50:28.451124: I tensorflow/core/common_runtime/bfc_allocator.cc:1034] Bin (32768): \tTotal Chunks: 2, Chunks in use: 2. 73.0KiB allocated for chunks. 73.0KiB in use in bin. 72.6KiB client-requested in use in bin.\n",
      "2022-05-29 07:50:28.451136: I tensorflow/core/common_runtime/bfc_allocator.cc:1034] Bin (65536): \tTotal Chunks: 0, Chunks in use: 0. 0B allocated for chunks. 0B in use in bin. 0B client-requested in use in bin.\n",
      "2022-05-29 07:50:28.451151: I tensorflow/core/common_runtime/bfc_allocator.cc:1034] Bin (131072): \tTotal Chunks: 1, Chunks in use: 1. 169.5KiB allocated for chunks. 169.5KiB in use in bin. 169.3KiB client-requested in use in bin.\n",
      "2022-05-29 07:50:28.451163: I tensorflow/core/common_runtime/bfc_allocator.cc:1034] Bin (262144): \tTotal Chunks: 0, Chunks in use: 0. 0B allocated for chunks. 0B in use in bin. 0B client-requested in use in bin.\n",
      "2022-05-29 07:50:28.451175: I tensorflow/core/common_runtime/bfc_allocator.cc:1034] Bin (524288): \tTotal Chunks: 0, Chunks in use: 0. 0B allocated for chunks. 0B in use in bin. 0B client-requested in use in bin.\n",
      "2022-05-29 07:50:28.451187: I tensorflow/core/common_runtime/bfc_allocator.cc:1034] Bin (1048576): \tTotal Chunks: 0, Chunks in use: 0. 0B allocated for chunks. 0B in use in bin. 0B client-requested in use in bin.\n",
      "2022-05-29 07:50:28.451199: I tensorflow/core/common_runtime/bfc_allocator.cc:1034] Bin (2097152): \tTotal Chunks: 0, Chunks in use: 0. 0B allocated for chunks. 0B in use in bin. 0B client-requested in use in bin.\n",
      "2022-05-29 07:50:28.451212: I tensorflow/core/common_runtime/bfc_allocator.cc:1034] Bin (4194304): \tTotal Chunks: 2, Chunks in use: 2. 8.00MiB allocated for chunks. 8.00MiB in use in bin. 8.00MiB client-requested in use in bin.\n",
      "2022-05-29 07:50:28.451226: I tensorflow/core/common_runtime/bfc_allocator.cc:1034] Bin (8388608): \tTotal Chunks: 1, Chunks in use: 0. 8.00MiB allocated for chunks. 0B in use in bin. 0B client-requested in use in bin.\n",
      "2022-05-29 07:50:28.451238: I tensorflow/core/common_runtime/bfc_allocator.cc:1034] Bin (16777216): \tTotal Chunks: 0, Chunks in use: 0. 0B allocated for chunks. 0B in use in bin. 0B client-requested in use in bin.\n",
      "2022-05-29 07:50:28.451249: I tensorflow/core/common_runtime/bfc_allocator.cc:1034] Bin (33554432): \tTotal Chunks: 0, Chunks in use: 0. 0B allocated for chunks. 0B in use in bin. 0B client-requested in use in bin.\n",
      "2022-05-29 07:50:28.451262: I tensorflow/core/common_runtime/bfc_allocator.cc:1034] Bin (67108864): \tTotal Chunks: 0, Chunks in use: 0. 0B allocated for chunks. 0B in use in bin. 0B client-requested in use in bin.\n",
      "2022-05-29 07:50:28.451275: I tensorflow/core/common_runtime/bfc_allocator.cc:1034] Bin (134217728): \tTotal Chunks: 0, Chunks in use: 0. 0B allocated for chunks. 0B in use in bin. 0B client-requested in use in bin.\n",
      "2022-05-29 07:50:28.451289: I tensorflow/core/common_runtime/bfc_allocator.cc:1034] Bin (268435456): \tTotal Chunks: 4, Chunks in use: 3. 9.41GiB allocated for chunks. 7.65GiB in use in bin. 7.65GiB client-requested in use in bin.\n",
      "2022-05-29 07:50:28.451308: I tensorflow/core/common_runtime/bfc_allocator.cc:1050] Bin for 9.48GiB was 256.00MiB, Chunk State: \n",
      "2022-05-29 07:50:28.451335: I tensorflow/core/common_runtime/bfc_allocator.cc:1056]   Size: 1.76GiB | Requested Size: 0B | in_use: 0 | bin_num: 20, prev:   Size: 4.00MiB | Requested Size: 4.00MiB | in_use: 1 | bin_num: -1\n",
      "2022-05-29 07:50:28.451346: I tensorflow/core/common_runtime/bfc_allocator.cc:1063] Next region of size 10119348224\n",
      "2022-05-29 07:50:28.451365: I tensorflow/core/common_runtime/bfc_allocator.cc:1083] InUse at 7f3476000000 of size 5747495936 next 1\n",
      "2022-05-29 07:50:28.451376: I tensorflow/core/common_runtime/bfc_allocator.cc:1083] InUse at 7f35cc93d400 of size 1280 next 2\n",
      "2022-05-29 07:50:28.451387: I tensorflow/core/common_runtime/bfc_allocator.cc:1083] InUse at 7f35cc93d900 of size 173568 next 3\n",
      "2022-05-29 07:50:28.451398: I tensorflow/core/common_runtime/bfc_allocator.cc:1083] InUse at 7f35cc967f00 of size 256 next 4\n",
      "2022-05-29 07:50:28.451408: I tensorflow/core/common_runtime/bfc_allocator.cc:1083] InUse at 7f35cc968000 of size 256 next 5\n",
      "2022-05-29 07:50:28.451419: I tensorflow/core/common_runtime/bfc_allocator.cc:1083] InUse at 7f35cc968100 of size 256 next 6\n",
      "2022-05-29 07:50:28.451428: I tensorflow/core/common_runtime/bfc_allocator.cc:1083] InUse at 7f35cc968200 of size 256 next 7\n",
      "2022-05-29 07:50:28.451439: I tensorflow/core/common_runtime/bfc_allocator.cc:1083] InUse at 7f35cc968300 of size 1231663104 next 8\n",
      "2022-05-29 07:50:28.451449: I tensorflow/core/common_runtime/bfc_allocator.cc:1083] InUse at 7f3616003300 of size 37376 next 9\n",
      "2022-05-29 07:50:28.451459: I tensorflow/core/common_runtime/bfc_allocator.cc:1083] InUse at 7f361600c500 of size 1231663104 next 10\n",
      "2022-05-29 07:50:28.451470: I tensorflow/core/common_runtime/bfc_allocator.cc:1083] InUse at 7f365f6a7500 of size 37376 next 11\n",
      "2022-05-29 07:50:28.451480: I tensorflow/core/common_runtime/bfc_allocator.cc:1083] InUse at 7f365f6b0700 of size 256 next 12\n",
      "2022-05-29 07:50:28.451489: I tensorflow/core/common_runtime/bfc_allocator.cc:1083] InUse at 7f365f6b0800 of size 256 next 13\n",
      "2022-05-29 07:50:28.451498: I tensorflow/core/common_runtime/bfc_allocator.cc:1083] InUse at 7f365f6b0900 of size 256 next 14\n",
      "2022-05-29 07:50:28.451508: I tensorflow/core/common_runtime/bfc_allocator.cc:1083] InUse at 7f365f6b0a00 of size 1024 next 15\n",
      "2022-05-29 07:50:28.451518: I tensorflow/core/common_runtime/bfc_allocator.cc:1083] InUse at 7f365f6b0e00 of size 256 next 18\n",
      "2022-05-29 07:50:28.451528: I tensorflow/core/common_runtime/bfc_allocator.cc:1083] InUse at 7f365f6b0f00 of size 1024 next 19\n",
      "2022-05-29 07:50:28.451537: I tensorflow/core/common_runtime/bfc_allocator.cc:1083] InUse at 7f365f6b1300 of size 1024 next 20\n",
      "2022-05-29 07:50:28.451547: I tensorflow/core/common_runtime/bfc_allocator.cc:1083] InUse at 7f365f6b1700 of size 1024 next 21\n",
      "2022-05-29 07:50:28.451557: I tensorflow/core/common_runtime/bfc_allocator.cc:1083] InUse at 7f365f6b1b00 of size 1024 next 22\n",
      "2022-05-29 07:50:28.451566: I tensorflow/core/common_runtime/bfc_allocator.cc:1083] InUse at 7f365f6b1f00 of size 256 next 23\n",
      "2022-05-29 07:50:28.451575: I tensorflow/core/common_runtime/bfc_allocator.cc:1083] InUse at 7f365f6b2000 of size 256 next 24\n",
      "2022-05-29 07:50:28.451585: I tensorflow/core/common_runtime/bfc_allocator.cc:1083] InUse at 7f365f6b2100 of size 1024 next 25\n",
      "2022-05-29 07:50:28.451595: I tensorflow/core/common_runtime/bfc_allocator.cc:1083] InUse at 7f365f6b2500 of size 1024 next 28\n",
      "2022-05-29 07:50:28.451605: I tensorflow/core/common_runtime/bfc_allocator.cc:1083] InUse at 7f365f6b2900 of size 1024 next 29\n",
      "2022-05-29 07:50:28.451614: I tensorflow/core/common_runtime/bfc_allocator.cc:1083] InUse at 7f365f6b2d00 of size 1024 next 30\n",
      "2022-05-29 07:50:28.451624: I tensorflow/core/common_runtime/bfc_allocator.cc:1083] InUse at 7f365f6b3100 of size 1024 next 31\n",
      "2022-05-29 07:50:28.451994: I tensorflow/core/common_runtime/bfc_allocator.cc:1083] InUse at 7f365f6b3500 of size 1024 next 32\n",
      "2022-05-29 07:50:28.452005: I tensorflow/core/common_runtime/bfc_allocator.cc:1083] InUse at 7f365f6b3900 of size 1024 next 34\n",
      "2022-05-29 07:50:28.452014: I tensorflow/core/common_runtime/bfc_allocator.cc:1083] InUse at 7f365f6b3d00 of size 1024 next 35\n",
      "2022-05-29 07:50:28.452026: I tensorflow/core/common_runtime/bfc_allocator.cc:1083] InUse at 7f365f6b4100 of size 1024 next 36\n",
      "2022-05-29 07:50:28.452036: I tensorflow/core/common_runtime/bfc_allocator.cc:1083] InUse at 7f365f6b4500 of size 1024 next 37\n",
      "2022-05-29 07:50:28.452049: I tensorflow/core/common_runtime/bfc_allocator.cc:1083] InUse at 7f365f6b4900 of size 256 next 38\n",
      "2022-05-29 07:50:28.452059: I tensorflow/core/common_runtime/bfc_allocator.cc:1083] InUse at 7f365f6b4a00 of size 256 next 39\n",
      "2022-05-29 07:50:28.452069: I tensorflow/core/common_runtime/bfc_allocator.cc:1083] Free  at 7f365f6b4b00 of size 16128 next 16\n",
      "2022-05-29 07:50:28.452080: I tensorflow/core/common_runtime/bfc_allocator.cc:1083] InUse at 7f365f6b8a00 of size 16384 next 17\n",
      "2022-05-29 07:50:28.452091: I tensorflow/core/common_runtime/bfc_allocator.cc:1083] Free  at 7f365f6bca00 of size 8388608 next 27\n",
      "2022-05-29 07:50:28.452101: I tensorflow/core/common_runtime/bfc_allocator.cc:1083] InUse at 7f365febca00 of size 4194304 next 26\n",
      "2022-05-29 07:50:28.452111: I tensorflow/core/common_runtime/bfc_allocator.cc:1083] InUse at 7f36602bca00 of size 4194304 next 33\n",
      "2022-05-29 07:50:28.452123: I tensorflow/core/common_runtime/bfc_allocator.cc:1083] Free  at 7f36606bca00 of size 1891448320 next 18446744073709551615\n",
      "2022-05-29 07:50:28.452133: I tensorflow/core/common_runtime/bfc_allocator.cc:1088]      Summary of in-use Chunks by size: \n",
      "2022-05-29 07:50:28.452146: I tensorflow/core/common_runtime/bfc_allocator.cc:1091] 12 Chunks of size 256 totalling 3.0KiB\n",
      "2022-05-29 07:50:28.452168: I tensorflow/core/common_runtime/bfc_allocator.cc:1091] 15 Chunks of size 1024 totalling 15.0KiB\n",
      "2022-05-29 07:50:28.452180: I tensorflow/core/common_runtime/bfc_allocator.cc:1091] 1 Chunks of size 1280 totalling 1.2KiB\n",
      "2022-05-29 07:50:28.452192: I tensorflow/core/common_runtime/bfc_allocator.cc:1091] 1 Chunks of size 16384 totalling 16.0KiB\n",
      "2022-05-29 07:50:28.452204: I tensorflow/core/common_runtime/bfc_allocator.cc:1091] 2 Chunks of size 37376 totalling 73.0KiB\n",
      "2022-05-29 07:50:28.452223: I tensorflow/core/common_runtime/bfc_allocator.cc:1091] 1 Chunks of size 173568 totalling 169.5KiB\n",
      "2022-05-29 07:50:28.452235: I tensorflow/core/common_runtime/bfc_allocator.cc:1091] 2 Chunks of size 4194304 totalling 8.00MiB\n",
      "2022-05-29 07:50:28.452247: I tensorflow/core/common_runtime/bfc_allocator.cc:1091] 2 Chunks of size 1231663104 totalling 2.29GiB\n",
      "2022-05-29 07:50:28.452258: I tensorflow/core/common_runtime/bfc_allocator.cc:1091] 1 Chunks of size 5747495936 totalling 5.35GiB\n",
      "2022-05-29 07:50:28.452277: I tensorflow/core/common_runtime/bfc_allocator.cc:1095] Sum Total of in-use chunks: 7.65GiB\n",
      "2022-05-29 07:50:28.452288: I tensorflow/core/common_runtime/bfc_allocator.cc:1097] total_region_allocated_bytes_: 10119348224 memory_limit_: 10119348224 available bytes: 0 curr_region_allocation_bytes_: 20238696448\n",
      "2022-05-29 07:50:28.452309: I tensorflow/core/common_runtime/bfc_allocator.cc:1103] Stats: \n",
      "Limit:                     10119348224\n",
      "InUse:                      8219495168\n",
      "MaxInUse:                   8227878144\n",
      "NumAllocs:                          46\n",
      "MaxAllocSize:               5747495936\n",
      "Reserved:                            0\n",
      "PeakReserved:                        0\n",
      "LargestFreeBlock:                    0\n",
      "\n",
      "2022-05-29 07:50:28.452332: W tensorflow/core/common_runtime/bfc_allocator.cc:491] **********************************************************************************__________________\n",
      "2022-05-29 07:50:28.452418: W tensorflow/core/framework/op_kernel.cc:1745] OP_REQUIRES failed at random_op.cc:74 : RESOURCE_EXHAUSTED: OOM when allocating tensor with shape[8486912,300] and type float on /job:localhost/replica:0/task:0/device:GPU:0 by allocator GPU_0_bfc\n"
     ]
    },
    {
     "ename": "ResourceExhaustedError",
     "evalue": "OOM when allocating tensor with shape[8486912,300] and type float on /job:localhost/replica:0/task:0/device:GPU:0 by allocator GPU_0_bfc [Op:RandomUniform]",
     "output_type": "error",
     "traceback": [
      "\u001b[0;31m---------------------------------------------------------------------------\u001b[0m",
      "\u001b[0;31mResourceExhaustedError\u001b[0m                    Traceback (most recent call last)",
      "\u001b[1;32m/usr/research/drive/Vedant/src/test.ipynb Cell 8'\u001b[0m in \u001b[0;36m<cell line: 1>\u001b[0;34m()\u001b[0m\n\u001b[0;32m----> <a href='vscode-notebook-cell://attached-container%2B7b22636f6e7461696e65724e616d65223a222f766564616e745f646576222c2273657474696e6773223a7b22686f7374223a227373683a2f2f636f63686c2e697074696d652e6f7267227d7d/usr/research/drive/Vedant/src/test.ipynb#ch0000007vscode-remote?line=0'>1</a>\u001b[0m melspec\u001b[39m.\u001b[39;49mmain(\u001b[39m100\u001b[39;49m,\u001b[39m\"\u001b[39;49m\u001b[39mResNet\u001b[39;49m\u001b[39m\"\u001b[39;49m)\n",
      "File \u001b[0;32m/usr/research/drive/Vedant/src/melspec.py:135\u001b[0m, in \u001b[0;36mmain\u001b[0;34m(num_epochs, modelname)\u001b[0m\n\u001b[1;32m    <a href='file:///usr/research/drive/Vedant/src/melspec.py?line=126'>127</a>\u001b[0m  \u001b[39m# trans = StratifiedKFold(n_splits=5, shuffle=True, random_state=42)\u001b[39;00m\n\u001b[1;32m    <a href='file:///usr/research/drive/Vedant/src/melspec.py?line=127'>128</a>\u001b[0m \n\u001b[1;32m    <a href='file:///usr/research/drive/Vedant/src/melspec.py?line=128'>129</a>\u001b[0m \u001b[39m# train = tf.data.Dataset.from_tensor_slices((x_train, y_train))\u001b[39;00m\n\u001b[1;32m    <a href='file:///usr/research/drive/Vedant/src/melspec.py?line=129'>130</a>\u001b[0m \u001b[39m# train = train.shuffle(buffer_size=1000).batch(256)\u001b[39;00m\n\u001b[1;32m    <a href='file:///usr/research/drive/Vedant/src/melspec.py?line=130'>131</a>\u001b[0m \u001b[39m# val = tf.data.Dataset.from_tensor_slices((x_val, y_val)).batch(256)\u001b[39;00m\n\u001b[1;32m    <a href='file:///usr/research/drive/Vedant/src/melspec.py?line=131'>132</a>\u001b[0m \u001b[39m# test = tf.data.Dataset.from_tensor_slices((x_test, y_test)).batch(256)\u001b[39;00m\n\u001b[1;32m    <a href='file:///usr/research/drive/Vedant/src/melspec.py?line=133'>134</a>\u001b[0m  \u001b[39mprint\u001b[39m(\u001b[39m'\u001b[39m\u001b[39mRunning \u001b[39m\u001b[39m'\u001b[39m, modelname, \u001b[39m'\u001b[39m\u001b[39m model\u001b[39m\u001b[39m'\u001b[39m)\n\u001b[0;32m--> <a href='file:///usr/research/drive/Vedant/src/melspec.py?line=134'>135</a>\u001b[0m  model \u001b[39m=\u001b[39m build_model(modelname, (x_train\u001b[39m.\u001b[39;49mshape[\u001b[39m1\u001b[39;49m], x_train\u001b[39m.\u001b[39;49mshape[\u001b[39m2\u001b[39;49m]), \u001b[39m10\u001b[39;49m)\n\u001b[1;32m    <a href='file:///usr/research/drive/Vedant/src/melspec.py?line=135'>136</a>\u001b[0m  model\u001b[39m.\u001b[39mcompile(optimizer\u001b[39m=\u001b[39m\u001b[39m'\u001b[39m\u001b[39madam\u001b[39m\u001b[39m'\u001b[39m, loss\u001b[39m=\u001b[39m\u001b[39m'\u001b[39m\u001b[39msparse_categorical_crossentropy\u001b[39m\u001b[39m'\u001b[39m,   metrics\u001b[39m=\u001b[39m[\u001b[39m'\u001b[39m\u001b[39macc\u001b[39m\u001b[39m'\u001b[39m])\n\u001b[1;32m    <a href='file:///usr/research/drive/Vedant/src/melspec.py?line=136'>137</a>\u001b[0m  history \u001b[39m=\u001b[39m model\u001b[39m.\u001b[39mfit(train, validation_data\u001b[39m=\u001b[39mval, epochs\u001b[39m=\u001b[39mnum_epochs)\n",
      "File \u001b[0;32m/usr/research/drive/Vedant/src/melspec.py:93\u001b[0m, in \u001b[0;36mbuild_model\u001b[0;34m(name, shape, output)\u001b[0m\n\u001b[1;32m     <a href='file:///usr/research/drive/Vedant/src/melspec.py?line=90'>91</a>\u001b[0m z \u001b[39m=\u001b[39m layers\u001b[39m.\u001b[39madd([x, y])\n\u001b[1;32m     <a href='file:///usr/research/drive/Vedant/src/melspec.py?line=91'>92</a>\u001b[0m \u001b[39m# Dense layers\u001b[39;00m\n\u001b[0;32m---> <a href='file:///usr/research/drive/Vedant/src/melspec.py?line=92'>93</a>\u001b[0m z \u001b[39m=\u001b[39m layers\u001b[39m.\u001b[39;49mDense(\u001b[39m300\u001b[39;49m, activation\u001b[39m=\u001b[39;49m\u001b[39m'\u001b[39;49m\u001b[39mrelu\u001b[39;49m\u001b[39m'\u001b[39;49m)(z)\n\u001b[1;32m     <a href='file:///usr/research/drive/Vedant/src/melspec.py?line=93'>94</a>\u001b[0m z \u001b[39m=\u001b[39m layers\u001b[39m.\u001b[39mDense(\u001b[39m150\u001b[39m, activation\u001b[39m=\u001b[39m\u001b[39m'\u001b[39m\u001b[39mrelu\u001b[39m\u001b[39m'\u001b[39m)(z)\n\u001b[1;32m     <a href='file:///usr/research/drive/Vedant/src/melspec.py?line=94'>95</a>\u001b[0m outputs \u001b[39m=\u001b[39m layers\u001b[39m.\u001b[39mDense(output, activation\u001b[39m=\u001b[39m\u001b[39m'\u001b[39m\u001b[39msoftmax\u001b[39m\u001b[39m'\u001b[39m, dtype\u001b[39m=\u001b[39m\u001b[39m'\u001b[39m\u001b[39mfloat32\u001b[39m\u001b[39m'\u001b[39m)(z)\n",
      "File \u001b[0;32m/usr/local/lib/python3.8/dist-packages/keras/utils/traceback_utils.py:67\u001b[0m, in \u001b[0;36mfilter_traceback.<locals>.error_handler\u001b[0;34m(*args, **kwargs)\u001b[0m\n\u001b[1;32m     <a href='file:///usr/local/lib/python3.8/dist-packages/keras/utils/traceback_utils.py?line=64'>65</a>\u001b[0m \u001b[39mexcept\u001b[39;00m \u001b[39mException\u001b[39;00m \u001b[39mas\u001b[39;00m e:  \u001b[39m# pylint: disable=broad-except\u001b[39;00m\n\u001b[1;32m     <a href='file:///usr/local/lib/python3.8/dist-packages/keras/utils/traceback_utils.py?line=65'>66</a>\u001b[0m   filtered_tb \u001b[39m=\u001b[39m _process_traceback_frames(e\u001b[39m.\u001b[39m__traceback__)\n\u001b[0;32m---> <a href='file:///usr/local/lib/python3.8/dist-packages/keras/utils/traceback_utils.py?line=66'>67</a>\u001b[0m   \u001b[39mraise\u001b[39;00m e\u001b[39m.\u001b[39mwith_traceback(filtered_tb) \u001b[39mfrom\u001b[39;00m \u001b[39mNone\u001b[39m\n\u001b[1;32m     <a href='file:///usr/local/lib/python3.8/dist-packages/keras/utils/traceback_utils.py?line=67'>68</a>\u001b[0m \u001b[39mfinally\u001b[39;00m:\n\u001b[1;32m     <a href='file:///usr/local/lib/python3.8/dist-packages/keras/utils/traceback_utils.py?line=68'>69</a>\u001b[0m   \u001b[39mdel\u001b[39;00m filtered_tb\n",
      "File \u001b[0;32m/usr/local/lib/python3.8/dist-packages/keras/backend.py:1920\u001b[0m, in \u001b[0;36mRandomGenerator.random_uniform\u001b[0;34m(self, shape, minval, maxval, dtype)\u001b[0m\n\u001b[1;32m   <a href='file:///usr/local/lib/python3.8/dist-packages/keras/backend.py?line=1916'>1917</a>\u001b[0m \u001b[39mif\u001b[39;00m \u001b[39mself\u001b[39m\u001b[39m.\u001b[39m_generator:\n\u001b[1;32m   <a href='file:///usr/local/lib/python3.8/dist-packages/keras/backend.py?line=1917'>1918</a>\u001b[0m   \u001b[39mreturn\u001b[39;00m \u001b[39mself\u001b[39m\u001b[39m.\u001b[39m_generator\u001b[39m.\u001b[39muniform(\n\u001b[1;32m   <a href='file:///usr/local/lib/python3.8/dist-packages/keras/backend.py?line=1918'>1919</a>\u001b[0m       shape\u001b[39m=\u001b[39mshape, minval\u001b[39m=\u001b[39mminval, maxval\u001b[39m=\u001b[39mmaxval, dtype\u001b[39m=\u001b[39mdtype)\n\u001b[0;32m-> <a href='file:///usr/local/lib/python3.8/dist-packages/keras/backend.py?line=1919'>1920</a>\u001b[0m \u001b[39mreturn\u001b[39;00m tf\u001b[39m.\u001b[39;49mrandom\u001b[39m.\u001b[39;49muniform(\n\u001b[1;32m   <a href='file:///usr/local/lib/python3.8/dist-packages/keras/backend.py?line=1920'>1921</a>\u001b[0m     shape\u001b[39m=\u001b[39;49mshape, minval\u001b[39m=\u001b[39;49mminval, maxval\u001b[39m=\u001b[39;49mmaxval, dtype\u001b[39m=\u001b[39;49mdtype,\n\u001b[1;32m   <a href='file:///usr/local/lib/python3.8/dist-packages/keras/backend.py?line=1921'>1922</a>\u001b[0m     seed\u001b[39m=\u001b[39;49m\u001b[39mself\u001b[39;49m\u001b[39m.\u001b[39;49mmake_legacy_seed())\n",
      "\u001b[0;31mResourceExhaustedError\u001b[0m: OOM when allocating tensor with shape[8486912,300] and type float on /job:localhost/replica:0/task:0/device:GPU:0 by allocator GPU_0_bfc [Op:RandomUniform]"
     ]
    }
   ],
   "source": [
    "melspec.main(100,\"ResNet\")"
   ]
  },
  {
   "cell_type": "code",
   "execution_count": 22,
   "metadata": {},
   "outputs": [
    {
     "name": "stdout",
     "output_type": "stream",
     "text": [
      "(591, 2)\n"
     ]
    }
   ],
   "source": [
    "import glob, numpy as np, pandas as pd, random\n",
    "test_paths = sorted(glob.glob('../../datasets/gtzan10sAug/datasets/jukebox/val/*.npy'))\n",
    "# assert len(npy_paths) == 1000\n",
    "random.seed(42)\n",
    "random.shuffle(test_paths)\n",
    "\n",
    "# Load data\n",
    "T = np.array([np.load(p, allow_pickle=True) for p in test_paths])\n",
    "print(T.shape)"
   ]
  },
  {
   "cell_type": "code",
   "execution_count": 23,
   "metadata": {},
   "outputs": [
    {
     "name": "stdout",
     "output_type": "stream",
     "text": [
      "Testing on unseen data\n",
      "(591, 2)\n",
      "converting test n-d arrays to 1d\n",
      "(4800,)\n"
     ]
    },
    {
     "name": "stderr",
     "output_type": "stream",
     "text": [
      "100%|██████████| 591/591 [00:00<00:00, 10692.23it/s]\n"
     ]
    }
   ],
   "source": [
    "print(\"Testing on unseen data\")\n",
    "from tqdm import tqdm\n",
    "from sklearn import preprocessing\n",
    "le = preprocessing.LabelEncoder()\n",
    "# VALIDATION SET\n",
    "test_paths = sorted(glob.glob('../../datasets/gtzan10sAug/datasets/jukebox/val/*.npy'))\n",
    "# assert len(npy_paths) == 1000\n",
    "random.seed(42)\n",
    "random.shuffle(test_paths)\n",
    "\n",
    "# Load data\n",
    "T = np.array([np.load(p, allow_pickle=True) for p in test_paths])\n",
    "print(T.shape)\n",
    "y = np.array(pd.DataFrame(T)[1].to_list())\n",
    "X = np.array(pd.DataFrame(T)[0].to_list())\n",
    "\n",
    "from sklearn import preprocessing\n",
    "y_test = le.fit_transform(y)\n",
    "# le_name_mapping = dict(zip(le.classes_, le.transform(le.classes_)))\n",
    "# print(le_name_mapping)\n",
    "\n",
    "print(\"converting test n-d arrays to 1d\")\n",
    "print(X[0].mean(axis=0).shape)\n",
    "X_test=np.zeros((len(X),X[0].shape[1]))\n",
    "for i in tqdm(range(len(X))):\n",
    "    X_test[i] = X[i].mean(axis=0)#.ravel()\n",
    "\n",
    "X_test_df = pd.DataFrame(X_test)"
   ]
  },
  {
   "cell_type": "code",
   "execution_count": 27,
   "metadata": {},
   "outputs": [
    {
     "data": {
      "text/html": [
       "<div>\n",
       "<style scoped>\n",
       "    .dataframe tbody tr th:only-of-type {\n",
       "        vertical-align: middle;\n",
       "    }\n",
       "\n",
       "    .dataframe tbody tr th {\n",
       "        vertical-align: top;\n",
       "    }\n",
       "\n",
       "    .dataframe thead th {\n",
       "        text-align: right;\n",
       "    }\n",
       "</style>\n",
       "<table border=\"1\" class=\"dataframe\">\n",
       "  <thead>\n",
       "    <tr style=\"text-align: right;\">\n",
       "      <th></th>\n",
       "      <th>4251</th>\n",
       "    </tr>\n",
       "  </thead>\n",
       "  <tbody>\n",
       "    <tr>\n",
       "      <th>0</th>\n",
       "      <td>2.220977</td>\n",
       "    </tr>\n",
       "    <tr>\n",
       "      <th>1</th>\n",
       "      <td>2.492425</td>\n",
       "    </tr>\n",
       "    <tr>\n",
       "      <th>2</th>\n",
       "      <td>3.005029</td>\n",
       "    </tr>\n",
       "    <tr>\n",
       "      <th>3</th>\n",
       "      <td>2.917510</td>\n",
       "    </tr>\n",
       "    <tr>\n",
       "      <th>4</th>\n",
       "      <td>1.964654</td>\n",
       "    </tr>\n",
       "    <tr>\n",
       "      <th>...</th>\n",
       "      <td>...</td>\n",
       "    </tr>\n",
       "    <tr>\n",
       "      <th>586</th>\n",
       "      <td>2.537655</td>\n",
       "    </tr>\n",
       "    <tr>\n",
       "      <th>587</th>\n",
       "      <td>2.241285</td>\n",
       "    </tr>\n",
       "    <tr>\n",
       "      <th>588</th>\n",
       "      <td>2.057100</td>\n",
       "    </tr>\n",
       "    <tr>\n",
       "      <th>589</th>\n",
       "      <td>2.184299</td>\n",
       "    </tr>\n",
       "    <tr>\n",
       "      <th>590</th>\n",
       "      <td>1.353889</td>\n",
       "    </tr>\n",
       "  </tbody>\n",
       "</table>\n",
       "<p>591 rows × 1 columns</p>\n",
       "</div>"
      ],
      "text/plain": [
       "         4251\n",
       "0    2.220977\n",
       "1    2.492425\n",
       "2    3.005029\n",
       "3    2.917510\n",
       "4    1.964654\n",
       "..        ...\n",
       "586  2.537655\n",
       "587  2.241285\n",
       "588  2.057100\n",
       "589  2.184299\n",
       "590  1.353889\n",
       "\n",
       "[591 rows x 1 columns]"
      ]
     },
     "execution_count": 27,
     "metadata": {},
     "output_type": "execute_result"
    }
   ],
   "source": [
    "X_test_df[[4251]]"
   ]
  },
  {
   "cell_type": "code",
   "execution_count": 4,
   "metadata": {},
   "outputs": [
    {
     "data": {
      "text/plain": [
       "[PhysicalDevice(name='/physical_device:GPU:0', device_type='GPU'),\n",
       " PhysicalDevice(name='/physical_device:GPU:1', device_type='GPU'),\n",
       " PhysicalDevice(name='/physical_device:GPU:2', device_type='GPU')]"
      ]
     },
     "execution_count": 4,
     "metadata": {},
     "output_type": "execute_result"
    }
   ],
   "source": [
    "import tensorflow as tf\n",
    "tf.config.experimental.list_physical_devices('GPU')"
   ]
  },
  {
   "cell_type": "code",
   "execution_count": 58,
   "metadata": {},
   "outputs": [
    {
     "data": {
      "text/html": [
       "<div>\n",
       "<style scoped>\n",
       "    .dataframe tbody tr th:only-of-type {\n",
       "        vertical-align: middle;\n",
       "    }\n",
       "\n",
       "    .dataframe tbody tr th {\n",
       "        vertical-align: top;\n",
       "    }\n",
       "\n",
       "    .dataframe thead th {\n",
       "        text-align: right;\n",
       "    }\n",
       "</style>\n",
       "<table border=\"1\" class=\"dataframe\">\n",
       "  <thead>\n",
       "    <tr style=\"text-align: right;\">\n",
       "      <th></th>\n",
       "      <th>threshold</th>\n",
       "      <th>features</th>\n",
       "      <th>cv_acc_mean</th>\n",
       "      <th>cv_acc_std</th>\n",
       "      <th>test_acc</th>\n",
       "    </tr>\n",
       "  </thead>\n",
       "  <tbody>\n",
       "    <tr>\n",
       "      <th>0</th>\n",
       "      <td>900</td>\n",
       "      <td>[4251, 1816, 2350, 3723, 2747, 4007, 4395, 319...</td>\n",
       "      <td>0.801019</td>\n",
       "      <td>0.034838</td>\n",
       "      <td>0.651438</td>\n",
       "    </tr>\n",
       "    <tr>\n",
       "      <th>1</th>\n",
       "      <td>905</td>\n",
       "      <td>[4251, 1816, 2350, 3723, 2747, 4007, 4395, 319...</td>\n",
       "      <td>0.799195</td>\n",
       "      <td>0.035420</td>\n",
       "      <td>0.653130</td>\n",
       "    </tr>\n",
       "    <tr>\n",
       "      <th>2</th>\n",
       "      <td>910</td>\n",
       "      <td>[4251, 1816, 2350, 3723, 2747, 4007, 4395, 319...</td>\n",
       "      <td>0.799651</td>\n",
       "      <td>0.033382</td>\n",
       "      <td>0.654822</td>\n",
       "    </tr>\n",
       "    <tr>\n",
       "      <th>3</th>\n",
       "      <td>915</td>\n",
       "      <td>[4251, 1816, 2350, 3723, 2747, 4007, 4395, 319...</td>\n",
       "      <td>0.800567</td>\n",
       "      <td>0.034079</td>\n",
       "      <td>0.658206</td>\n",
       "    </tr>\n",
       "    <tr>\n",
       "      <th>4</th>\n",
       "      <td>920</td>\n",
       "      <td>[4251, 1816, 2350, 3723, 2747, 4007, 4395, 319...</td>\n",
       "      <td>0.800567</td>\n",
       "      <td>0.034139</td>\n",
       "      <td>0.654822</td>\n",
       "    </tr>\n",
       "    <tr>\n",
       "      <th>5</th>\n",
       "      <td>925</td>\n",
       "      <td>[4251, 1816, 2350, 3723, 2747, 4007, 4395, 319...</td>\n",
       "      <td>0.801476</td>\n",
       "      <td>0.033377</td>\n",
       "      <td>0.656514</td>\n",
       "    </tr>\n",
       "    <tr>\n",
       "      <th>6</th>\n",
       "      <td>930</td>\n",
       "      <td>[4251, 1816, 2350, 3723, 2747, 4007, 4395, 319...</td>\n",
       "      <td>0.798742</td>\n",
       "      <td>0.035126</td>\n",
       "      <td>0.653130</td>\n",
       "    </tr>\n",
       "    <tr>\n",
       "      <th>7</th>\n",
       "      <td>935</td>\n",
       "      <td>[4251, 1816, 2350, 3723, 2747, 4007, 4395, 319...</td>\n",
       "      <td>0.798288</td>\n",
       "      <td>0.034959</td>\n",
       "      <td>0.654822</td>\n",
       "    </tr>\n",
       "    <tr>\n",
       "      <th>8</th>\n",
       "      <td>940</td>\n",
       "      <td>[4251, 1816, 2350, 3723, 2747, 4007, 4395, 319...</td>\n",
       "      <td>0.799651</td>\n",
       "      <td>0.032945</td>\n",
       "      <td>0.653130</td>\n",
       "    </tr>\n",
       "    <tr>\n",
       "      <th>9</th>\n",
       "      <td>945</td>\n",
       "      <td>[4251, 1816, 2350, 3723, 2747, 4007, 4395, 319...</td>\n",
       "      <td>0.799651</td>\n",
       "      <td>0.034309</td>\n",
       "      <td>0.654822</td>\n",
       "    </tr>\n",
       "    <tr>\n",
       "      <th>10</th>\n",
       "      <td>950</td>\n",
       "      <td>[4251, 1816, 2350, 3723, 2747, 4007, 4395, 319...</td>\n",
       "      <td>0.800560</td>\n",
       "      <td>0.033192</td>\n",
       "      <td>0.658206</td>\n",
       "    </tr>\n",
       "    <tr>\n",
       "      <th>11</th>\n",
       "      <td>955</td>\n",
       "      <td>[4251, 1816, 2350, 3723, 2747, 4007, 4395, 319...</td>\n",
       "      <td>0.800102</td>\n",
       "      <td>0.035086</td>\n",
       "      <td>0.656514</td>\n",
       "    </tr>\n",
       "    <tr>\n",
       "      <th>12</th>\n",
       "      <td>960</td>\n",
       "      <td>[4251, 1816, 2350, 3723, 2747, 4007, 4395, 319...</td>\n",
       "      <td>0.800556</td>\n",
       "      <td>0.033529</td>\n",
       "      <td>0.656514</td>\n",
       "    </tr>\n",
       "    <tr>\n",
       "      <th>13</th>\n",
       "      <td>965</td>\n",
       "      <td>[4251, 1816, 2350, 3723, 2747, 4007, 4395, 319...</td>\n",
       "      <td>0.799188</td>\n",
       "      <td>0.033012</td>\n",
       "      <td>0.658206</td>\n",
       "    </tr>\n",
       "    <tr>\n",
       "      <th>14</th>\n",
       "      <td>970</td>\n",
       "      <td>[4251, 1816, 2350, 3723, 2747, 4007, 4395, 319...</td>\n",
       "      <td>0.799191</td>\n",
       "      <td>0.033932</td>\n",
       "      <td>0.654822</td>\n",
       "    </tr>\n",
       "    <tr>\n",
       "      <th>15</th>\n",
       "      <td>975</td>\n",
       "      <td>[4251, 1816, 2350, 3723, 2747, 4007, 4395, 319...</td>\n",
       "      <td>0.800100</td>\n",
       "      <td>0.034184</td>\n",
       "      <td>0.654822</td>\n",
       "    </tr>\n",
       "    <tr>\n",
       "      <th>16</th>\n",
       "      <td>980</td>\n",
       "      <td>[4251, 1816, 2350, 3723, 2747, 4007, 4395, 319...</td>\n",
       "      <td>0.802837</td>\n",
       "      <td>0.033821</td>\n",
       "      <td>0.661591</td>\n",
       "    </tr>\n",
       "    <tr>\n",
       "      <th>17</th>\n",
       "      <td>985</td>\n",
       "      <td>[4251, 1816, 2350, 3723, 2747, 4007, 4395, 319...</td>\n",
       "      <td>0.802385</td>\n",
       "      <td>0.032687</td>\n",
       "      <td>0.659898</td>\n",
       "    </tr>\n",
       "    <tr>\n",
       "      <th>18</th>\n",
       "      <td>990</td>\n",
       "      <td>[4251, 1816, 2350, 3723, 2747, 4007, 4395, 319...</td>\n",
       "      <td>0.801928</td>\n",
       "      <td>0.031858</td>\n",
       "      <td>0.661591</td>\n",
       "    </tr>\n",
       "    <tr>\n",
       "      <th>19</th>\n",
       "      <td>995</td>\n",
       "      <td>[4251, 1816, 2350, 3723, 2747, 4007, 4395, 319...</td>\n",
       "      <td>0.801928</td>\n",
       "      <td>0.031793</td>\n",
       "      <td>0.661591</td>\n",
       "    </tr>\n",
       "    <tr>\n",
       "      <th>20</th>\n",
       "      <td>1000</td>\n",
       "      <td>[4251, 1816, 2350, 3723, 2747, 4007, 4395, 319...</td>\n",
       "      <td>0.802839</td>\n",
       "      <td>0.032551</td>\n",
       "      <td>0.661591</td>\n",
       "    </tr>\n",
       "    <tr>\n",
       "      <th>21</th>\n",
       "      <td>1005</td>\n",
       "      <td>[4251, 1816, 2350, 3723, 2747, 4007, 4395, 319...</td>\n",
       "      <td>0.802837</td>\n",
       "      <td>0.031721</td>\n",
       "      <td>0.654822</td>\n",
       "    </tr>\n",
       "    <tr>\n",
       "      <th>22</th>\n",
       "      <td>1010</td>\n",
       "      <td>[4251, 1816, 2350, 3723, 2747, 4007, 4395, 319...</td>\n",
       "      <td>0.803748</td>\n",
       "      <td>0.032267</td>\n",
       "      <td>0.659898</td>\n",
       "    </tr>\n",
       "    <tr>\n",
       "      <th>23</th>\n",
       "      <td>1015</td>\n",
       "      <td>[4251, 1816, 2350, 3723, 2747, 4007, 4395, 319...</td>\n",
       "      <td>0.803292</td>\n",
       "      <td>0.032814</td>\n",
       "      <td>0.661591</td>\n",
       "    </tr>\n",
       "    <tr>\n",
       "      <th>24</th>\n",
       "      <td>1020</td>\n",
       "      <td>[4251, 1816, 2350, 3723, 2747, 4007, 4395, 319...</td>\n",
       "      <td>0.803292</td>\n",
       "      <td>0.032814</td>\n",
       "      <td>0.661591</td>\n",
       "    </tr>\n",
       "    <tr>\n",
       "      <th>25</th>\n",
       "      <td>1025</td>\n",
       "      <td>[4251, 1816, 2350, 3723, 2747, 4007, 4395, 319...</td>\n",
       "      <td>0.803290</td>\n",
       "      <td>0.033074</td>\n",
       "      <td>0.661591</td>\n",
       "    </tr>\n",
       "    <tr>\n",
       "      <th>26</th>\n",
       "      <td>1030</td>\n",
       "      <td>[4251, 1816, 2350, 3723, 2747, 4007, 4395, 319...</td>\n",
       "      <td>0.804201</td>\n",
       "      <td>0.031672</td>\n",
       "      <td>0.661591</td>\n",
       "    </tr>\n",
       "    <tr>\n",
       "      <th>27</th>\n",
       "      <td>1035</td>\n",
       "      <td>[4251, 1816, 2350, 3723, 2747, 4007, 4395, 319...</td>\n",
       "      <td>0.804197</td>\n",
       "      <td>0.032028</td>\n",
       "      <td>0.659898</td>\n",
       "    </tr>\n",
       "    <tr>\n",
       "      <th>28</th>\n",
       "      <td>1040</td>\n",
       "      <td>[4251, 1816, 2350, 3723, 2747, 4007, 4395, 319...</td>\n",
       "      <td>0.803286</td>\n",
       "      <td>0.033169</td>\n",
       "      <td>0.656514</td>\n",
       "    </tr>\n",
       "    <tr>\n",
       "      <th>29</th>\n",
       "      <td>1045</td>\n",
       "      <td>[4251, 1816, 2350, 3723, 2747, 4007, 4395, 319...</td>\n",
       "      <td>0.805560</td>\n",
       "      <td>0.033011</td>\n",
       "      <td>0.654822</td>\n",
       "    </tr>\n",
       "    <tr>\n",
       "      <th>30</th>\n",
       "      <td>1050</td>\n",
       "      <td>[4251, 1816, 2350, 3723, 2747, 4007, 4395, 319...</td>\n",
       "      <td>0.804191</td>\n",
       "      <td>0.035051</td>\n",
       "      <td>0.656514</td>\n",
       "    </tr>\n",
       "    <tr>\n",
       "      <th>31</th>\n",
       "      <td>1055</td>\n",
       "      <td>[4251, 1816, 2350, 3723, 2747, 4007, 4395, 319...</td>\n",
       "      <td>0.804647</td>\n",
       "      <td>0.035249</td>\n",
       "      <td>0.654822</td>\n",
       "    </tr>\n",
       "    <tr>\n",
       "      <th>32</th>\n",
       "      <td>1060</td>\n",
       "      <td>[4251, 1816, 2350, 3723, 2747, 4007, 4395, 319...</td>\n",
       "      <td>0.805106</td>\n",
       "      <td>0.034532</td>\n",
       "      <td>0.656514</td>\n",
       "    </tr>\n",
       "    <tr>\n",
       "      <th>33</th>\n",
       "      <td>1065</td>\n",
       "      <td>[4251, 1816, 2350, 3723, 2747, 4007, 4395, 319...</td>\n",
       "      <td>0.806017</td>\n",
       "      <td>0.033327</td>\n",
       "      <td>0.653130</td>\n",
       "    </tr>\n",
       "    <tr>\n",
       "      <th>34</th>\n",
       "      <td>1070</td>\n",
       "      <td>[4251, 1816, 2350, 3723, 2747, 4007, 4395, 319...</td>\n",
       "      <td>0.805556</td>\n",
       "      <td>0.035117</td>\n",
       "      <td>0.656514</td>\n",
       "    </tr>\n",
       "    <tr>\n",
       "      <th>35</th>\n",
       "      <td>1075</td>\n",
       "      <td>[4251, 1816, 2350, 3723, 2747, 4007, 4395, 319...</td>\n",
       "      <td>0.805556</td>\n",
       "      <td>0.035117</td>\n",
       "      <td>0.654822</td>\n",
       "    </tr>\n",
       "    <tr>\n",
       "      <th>36</th>\n",
       "      <td>1080</td>\n",
       "      <td>[4251, 1816, 2350, 3723, 2747, 4007, 4395, 319...</td>\n",
       "      <td>0.804197</td>\n",
       "      <td>0.032028</td>\n",
       "      <td>0.654822</td>\n",
       "    </tr>\n",
       "    <tr>\n",
       "      <th>37</th>\n",
       "      <td>1085</td>\n",
       "      <td>[4251, 1816, 2350, 3723, 2747, 4007, 4395, 319...</td>\n",
       "      <td>0.804195</td>\n",
       "      <td>0.031910</td>\n",
       "      <td>0.654822</td>\n",
       "    </tr>\n",
       "    <tr>\n",
       "      <th>38</th>\n",
       "      <td>1090</td>\n",
       "      <td>[4251, 1816, 2350, 3723, 2747, 4007, 4395, 319...</td>\n",
       "      <td>0.804195</td>\n",
       "      <td>0.031910</td>\n",
       "      <td>0.654822</td>\n",
       "    </tr>\n",
       "    <tr>\n",
       "      <th>39</th>\n",
       "      <td>1095</td>\n",
       "      <td>[4251, 1816, 2350, 3723, 2747, 4007, 4395, 319...</td>\n",
       "      <td>0.803740</td>\n",
       "      <td>0.031934</td>\n",
       "      <td>0.654822</td>\n",
       "    </tr>\n",
       "  </tbody>\n",
       "</table>\n",
       "</div>"
      ],
      "text/plain": [
       "    threshold                                           features  cv_acc_mean  \\\n",
       "0         900  [4251, 1816, 2350, 3723, 2747, 4007, 4395, 319...     0.801019   \n",
       "1         905  [4251, 1816, 2350, 3723, 2747, 4007, 4395, 319...     0.799195   \n",
       "2         910  [4251, 1816, 2350, 3723, 2747, 4007, 4395, 319...     0.799651   \n",
       "3         915  [4251, 1816, 2350, 3723, 2747, 4007, 4395, 319...     0.800567   \n",
       "4         920  [4251, 1816, 2350, 3723, 2747, 4007, 4395, 319...     0.800567   \n",
       "5         925  [4251, 1816, 2350, 3723, 2747, 4007, 4395, 319...     0.801476   \n",
       "6         930  [4251, 1816, 2350, 3723, 2747, 4007, 4395, 319...     0.798742   \n",
       "7         935  [4251, 1816, 2350, 3723, 2747, 4007, 4395, 319...     0.798288   \n",
       "8         940  [4251, 1816, 2350, 3723, 2747, 4007, 4395, 319...     0.799651   \n",
       "9         945  [4251, 1816, 2350, 3723, 2747, 4007, 4395, 319...     0.799651   \n",
       "10        950  [4251, 1816, 2350, 3723, 2747, 4007, 4395, 319...     0.800560   \n",
       "11        955  [4251, 1816, 2350, 3723, 2747, 4007, 4395, 319...     0.800102   \n",
       "12        960  [4251, 1816, 2350, 3723, 2747, 4007, 4395, 319...     0.800556   \n",
       "13        965  [4251, 1816, 2350, 3723, 2747, 4007, 4395, 319...     0.799188   \n",
       "14        970  [4251, 1816, 2350, 3723, 2747, 4007, 4395, 319...     0.799191   \n",
       "15        975  [4251, 1816, 2350, 3723, 2747, 4007, 4395, 319...     0.800100   \n",
       "16        980  [4251, 1816, 2350, 3723, 2747, 4007, 4395, 319...     0.802837   \n",
       "17        985  [4251, 1816, 2350, 3723, 2747, 4007, 4395, 319...     0.802385   \n",
       "18        990  [4251, 1816, 2350, 3723, 2747, 4007, 4395, 319...     0.801928   \n",
       "19        995  [4251, 1816, 2350, 3723, 2747, 4007, 4395, 319...     0.801928   \n",
       "20       1000  [4251, 1816, 2350, 3723, 2747, 4007, 4395, 319...     0.802839   \n",
       "21       1005  [4251, 1816, 2350, 3723, 2747, 4007, 4395, 319...     0.802837   \n",
       "22       1010  [4251, 1816, 2350, 3723, 2747, 4007, 4395, 319...     0.803748   \n",
       "23       1015  [4251, 1816, 2350, 3723, 2747, 4007, 4395, 319...     0.803292   \n",
       "24       1020  [4251, 1816, 2350, 3723, 2747, 4007, 4395, 319...     0.803292   \n",
       "25       1025  [4251, 1816, 2350, 3723, 2747, 4007, 4395, 319...     0.803290   \n",
       "26       1030  [4251, 1816, 2350, 3723, 2747, 4007, 4395, 319...     0.804201   \n",
       "27       1035  [4251, 1816, 2350, 3723, 2747, 4007, 4395, 319...     0.804197   \n",
       "28       1040  [4251, 1816, 2350, 3723, 2747, 4007, 4395, 319...     0.803286   \n",
       "29       1045  [4251, 1816, 2350, 3723, 2747, 4007, 4395, 319...     0.805560   \n",
       "30       1050  [4251, 1816, 2350, 3723, 2747, 4007, 4395, 319...     0.804191   \n",
       "31       1055  [4251, 1816, 2350, 3723, 2747, 4007, 4395, 319...     0.804647   \n",
       "32       1060  [4251, 1816, 2350, 3723, 2747, 4007, 4395, 319...     0.805106   \n",
       "33       1065  [4251, 1816, 2350, 3723, 2747, 4007, 4395, 319...     0.806017   \n",
       "34       1070  [4251, 1816, 2350, 3723, 2747, 4007, 4395, 319...     0.805556   \n",
       "35       1075  [4251, 1816, 2350, 3723, 2747, 4007, 4395, 319...     0.805556   \n",
       "36       1080  [4251, 1816, 2350, 3723, 2747, 4007, 4395, 319...     0.804197   \n",
       "37       1085  [4251, 1816, 2350, 3723, 2747, 4007, 4395, 319...     0.804195   \n",
       "38       1090  [4251, 1816, 2350, 3723, 2747, 4007, 4395, 319...     0.804195   \n",
       "39       1095  [4251, 1816, 2350, 3723, 2747, 4007, 4395, 319...     0.803740   \n",
       "\n",
       "    cv_acc_std  test_acc  \n",
       "0     0.034838  0.651438  \n",
       "1     0.035420  0.653130  \n",
       "2     0.033382  0.654822  \n",
       "3     0.034079  0.658206  \n",
       "4     0.034139  0.654822  \n",
       "5     0.033377  0.656514  \n",
       "6     0.035126  0.653130  \n",
       "7     0.034959  0.654822  \n",
       "8     0.032945  0.653130  \n",
       "9     0.034309  0.654822  \n",
       "10    0.033192  0.658206  \n",
       "11    0.035086  0.656514  \n",
       "12    0.033529  0.656514  \n",
       "13    0.033012  0.658206  \n",
       "14    0.033932  0.654822  \n",
       "15    0.034184  0.654822  \n",
       "16    0.033821  0.661591  \n",
       "17    0.032687  0.659898  \n",
       "18    0.031858  0.661591  \n",
       "19    0.031793  0.661591  \n",
       "20    0.032551  0.661591  \n",
       "21    0.031721  0.654822  \n",
       "22    0.032267  0.659898  \n",
       "23    0.032814  0.661591  \n",
       "24    0.032814  0.661591  \n",
       "25    0.033074  0.661591  \n",
       "26    0.031672  0.661591  \n",
       "27    0.032028  0.659898  \n",
       "28    0.033169  0.656514  \n",
       "29    0.033011  0.654822  \n",
       "30    0.035051  0.656514  \n",
       "31    0.035249  0.654822  \n",
       "32    0.034532  0.656514  \n",
       "33    0.033327  0.653130  \n",
       "34    0.035117  0.656514  \n",
       "35    0.035117  0.654822  \n",
       "36    0.032028  0.654822  \n",
       "37    0.031910  0.654822  \n",
       "38    0.031910  0.654822  \n",
       "39    0.031934  0.654822  "
      ]
     },
     "execution_count": 58,
     "metadata": {},
     "output_type": "execute_result"
    }
   ],
   "source": [
    "pd.read_csv('../logs/MIC_(900_1100_5).csv', sep='\\t', names=['threshold','features','cv_acc_mean','cv_acc_std','test_acc'])"
   ]
  },
  {
   "cell_type": "markdown",
   "metadata": {},
   "source": [
    "# GTZAN split for clean 10s"
   ]
  },
  {
   "cell_type": "code",
   "execution_count": 7,
   "metadata": {},
   "outputs": [],
   "source": [
    "import pandas as pd\n",
    "import numpy as np\n",
    "import librosa\n",
    "import os\n",
    "import glob\n",
    "from tqdm import tqdm\n",
    "import soundfile as sf\n",
    "\n",
    "train = pd.read_csv('../gtzan_split/train_filtered.txt', header=None)\n",
    "test = pd.read_csv('../gtzan_split/test_filtered.txt', header=None)\n",
    "val = pd.read_csv('../gtzan_split/val_filtered.txt', header=None)"
   ]
  },
  {
   "cell_type": "code",
   "execution_count": 10,
   "metadata": {},
   "outputs": [
    {
     "data": {
      "text/plain": [
       "(197, 1)"
      ]
     },
     "execution_count": 10,
     "metadata": {},
     "output_type": "execute_result"
    }
   ],
   "source": [
    "val.shape"
   ]
  },
  {
   "cell_type": "code",
   "execution_count": 41,
   "metadata": {},
   "outputs": [],
   "source": [
    "lst = glob.glob(os.path.join('../../datasets/gtzan10sAug/datasets/clean/audio/a0.0_min0.0_max0.0',f'{row[0][:-6]}*.wav'))\n",
    "fpath = lst[0]"
   ]
  },
  {
   "cell_type": "code",
   "execution_count": 45,
   "metadata": {},
   "outputs": [
    {
     "data": {
      "text/plain": [
       "'../../datasets/gtzan10s_split/train/blues/blues.00061.0.wav'"
      ]
     },
     "execution_count": 45,
     "metadata": {},
     "output_type": "execute_result"
    }
   ],
   "source": [
    "os.path.join(output_path,f\"{fpath.split('/')[-1][:-4]}.wav\")"
   ]
  },
  {
   "cell_type": "code",
   "execution_count": 12,
   "metadata": {},
   "outputs": [],
   "source": [
    "for idx, row in train.iterrows():\n",
    "    break"
   ]
  },
  {
   "cell_type": "code",
   "execution_count": 13,
   "metadata": {},
   "outputs": [
    {
     "data": {
      "text/plain": [
       "['../../datasets/gtzan10sAug/datasets/clean/audio/a0.0_min0.0_max0.0/blues/blues.00029.2.wav',\n",
       " '../../datasets/gtzan10sAug/datasets/clean/audio/a0.0_min0.0_max0.0/blues/blues.00029.1.wav',\n",
       " '../../datasets/gtzan10sAug/datasets/clean/audio/a0.0_min0.0_max0.0/blues/blues.00029.0.wav']"
      ]
     },
     "execution_count": 13,
     "metadata": {},
     "output_type": "execute_result"
    }
   ],
   "source": [
    "glob.glob(os.path.join('../../datasets/gtzan10sAug/datasets/clean/audio/a0.0_min0.0_max0.0',f'{row[0][:-3]}*.wav'))"
   ]
  },
  {
   "cell_type": "code",
   "execution_count": 14,
   "metadata": {},
   "outputs": [],
   "source": [
    "def process_dataframe(df, split):\n",
    "    print(f\"Working on {split}\")\n",
    "    i=0\n",
    "    for idx, row in tqdm(df.iterrows()):\n",
    "        lst = glob.glob(os.path.join('../../datasets/gtzan10sAug/datasets/clean/audio/a0.0_min0.0_max0.0',f'{row[0][:-3]}*.wav'))\n",
    "        output_path = os.path.join('../../datasets/gtzan10s_split',split,f\"{row[0].split('/')[0]}\")\n",
    "        if not os.path.exists(output_path):\n",
    "            print(\"Creating missing directory\")\n",
    "            os.makedirs(output_path)\n",
    "        for fpath in lst:\n",
    "            i+=1\n",
    "            # x,sr = librosa.load(fpath)\n",
    "            # sf.write(os.path.join(output_path,f\"{fpath.split('/')[-1][:-4]}.wav\"),x,sr)\n",
    "            # np.save(os.path.join(output_path,f\"{row[0].split('/')[1][:-4]}.npy\"),x)\n",
    "    print(f\"There are {i} files in the {split} set\")"
   ]
  },
  {
   "cell_type": "code",
   "execution_count": 57,
   "metadata": {},
   "outputs": [
    {
     "name": "stdout",
     "output_type": "stream",
     "text": [
      "Working on train\n"
     ]
    },
    {
     "name": "stderr",
     "output_type": "stream",
     "text": [
      "4it [00:00, 34.91it/s]"
     ]
    },
    {
     "name": "stdout",
     "output_type": "stream",
     "text": [
      "Creating missing directory\n"
     ]
    },
    {
     "name": "stderr",
     "output_type": "stream",
     "text": [
      "51it [00:01, 40.29it/s]"
     ]
    },
    {
     "name": "stdout",
     "output_type": "stream",
     "text": [
      "Creating missing directory\n"
     ]
    },
    {
     "name": "stderr",
     "output_type": "stream",
     "text": [
      "101it [00:02, 43.32it/s]"
     ]
    },
    {
     "name": "stdout",
     "output_type": "stream",
     "text": [
      "Creating missing directory\n"
     ]
    },
    {
     "name": "stderr",
     "output_type": "stream",
     "text": [
      "146it [00:03, 40.42it/s]"
     ]
    },
    {
     "name": "stdout",
     "output_type": "stream",
     "text": [
      "Creating missing directory\n"
     ]
    },
    {
     "name": "stderr",
     "output_type": "stream",
     "text": [
      "186it [00:04, 40.43it/s]"
     ]
    },
    {
     "name": "stdout",
     "output_type": "stream",
     "text": [
      "Creating missing directory\n"
     ]
    },
    {
     "name": "stderr",
     "output_type": "stream",
     "text": [
      "236it [00:05, 40.26it/s]"
     ]
    },
    {
     "name": "stdout",
     "output_type": "stream",
     "text": [
      "Creating missing directory\n"
     ]
    },
    {
     "name": "stderr",
     "output_type": "stream",
     "text": [
      "276it [00:06, 40.50it/s]"
     ]
    },
    {
     "name": "stdout",
     "output_type": "stream",
     "text": [
      "Creating missing directory\n"
     ]
    },
    {
     "name": "stderr",
     "output_type": "stream",
     "text": [
      "321it [00:07, 42.97it/s]"
     ]
    },
    {
     "name": "stdout",
     "output_type": "stream",
     "text": [
      "Creating missing directory\n"
     ]
    },
    {
     "name": "stderr",
     "output_type": "stream",
     "text": [
      "361it [00:08, 40.16it/s]"
     ]
    },
    {
     "name": "stdout",
     "output_type": "stream",
     "text": [
      "Creating missing directory\n"
     ]
    },
    {
     "name": "stderr",
     "output_type": "stream",
     "text": [
      "406it [00:09, 40.59it/s]"
     ]
    },
    {
     "name": "stdout",
     "output_type": "stream",
     "text": [
      "Creating missing directory\n"
     ]
    },
    {
     "name": "stderr",
     "output_type": "stream",
     "text": [
      "443it [00:10, 41.04it/s]\n"
     ]
    },
    {
     "name": "stdout",
     "output_type": "stream",
     "text": [
      "Working on test\n"
     ]
    },
    {
     "name": "stderr",
     "output_type": "stream",
     "text": [
      "4it [00:00, 39.43it/s]"
     ]
    },
    {
     "name": "stdout",
     "output_type": "stream",
     "text": [
      "Creating missing directory\n"
     ]
    },
    {
     "name": "stderr",
     "output_type": "stream",
     "text": [
      "39it [00:00, 40.49it/s]"
     ]
    },
    {
     "name": "stdout",
     "output_type": "stream",
     "text": [
      "Creating missing directory\n"
     ]
    },
    {
     "name": "stderr",
     "output_type": "stream",
     "text": [
      "69it [00:01, 40.41it/s]"
     ]
    },
    {
     "name": "stdout",
     "output_type": "stream",
     "text": [
      "Creating missing directory\n"
     ]
    },
    {
     "name": "stderr",
     "output_type": "stream",
     "text": [
      "99it [00:02, 41.89it/s]"
     ]
    },
    {
     "name": "stdout",
     "output_type": "stream",
     "text": [
      "Creating missing directory\n"
     ]
    },
    {
     "name": "stderr",
     "output_type": "stream",
     "text": [
      "129it [00:03, 41.25it/s]"
     ]
    },
    {
     "name": "stdout",
     "output_type": "stream",
     "text": [
      "Creating missing directory\n"
     ]
    },
    {
     "name": "stderr",
     "output_type": "stream",
     "text": [
      "154it [00:03, 40.58it/s]"
     ]
    },
    {
     "name": "stdout",
     "output_type": "stream",
     "text": [
      "Creating missing directory\n"
     ]
    },
    {
     "name": "stderr",
     "output_type": "stream",
     "text": [
      "179it [00:04, 41.59it/s]"
     ]
    },
    {
     "name": "stdout",
     "output_type": "stream",
     "text": [
      "Creating missing directory\n"
     ]
    },
    {
     "name": "stderr",
     "output_type": "stream",
     "text": [
      "209it [00:05, 42.39it/s]"
     ]
    },
    {
     "name": "stdout",
     "output_type": "stream",
     "text": [
      "Creating missing directory\n"
     ]
    },
    {
     "name": "stderr",
     "output_type": "stream",
     "text": [
      "239it [00:05, 41.02it/s]"
     ]
    },
    {
     "name": "stdout",
     "output_type": "stream",
     "text": [
      "Creating missing directory\n"
     ]
    },
    {
     "name": "stderr",
     "output_type": "stream",
     "text": [
      "263it [00:06, 39.72it/s]"
     ]
    },
    {
     "name": "stdout",
     "output_type": "stream",
     "text": [
      "Creating missing directory\n"
     ]
    },
    {
     "name": "stderr",
     "output_type": "stream",
     "text": [
      "290it [00:07, 41.16it/s]\n"
     ]
    },
    {
     "name": "stdout",
     "output_type": "stream",
     "text": [
      "Working on val\n"
     ]
    },
    {
     "name": "stderr",
     "output_type": "stream",
     "text": [
      "5it [00:00, 42.73it/s]"
     ]
    },
    {
     "name": "stdout",
     "output_type": "stream",
     "text": [
      "Creating missing directory\n"
     ]
    },
    {
     "name": "stderr",
     "output_type": "stream",
     "text": [
      "30it [00:00, 43.03it/s]"
     ]
    },
    {
     "name": "stdout",
     "output_type": "stream",
     "text": [
      "Creating missing directory\n"
     ]
    },
    {
     "name": "stderr",
     "output_type": "stream",
     "text": [
      "50it [00:01, 43.33it/s]"
     ]
    },
    {
     "name": "stdout",
     "output_type": "stream",
     "text": [
      "Creating missing directory\n"
     ]
    },
    {
     "name": "stderr",
     "output_type": "stream",
     "text": [
      "70it [00:01, 43.49it/s]"
     ]
    },
    {
     "name": "stdout",
     "output_type": "stream",
     "text": [
      "Creating missing directory\n"
     ]
    },
    {
     "name": "stderr",
     "output_type": "stream",
     "text": [
      "95it [00:02, 40.34it/s]"
     ]
    },
    {
     "name": "stdout",
     "output_type": "stream",
     "text": [
      "Creating missing directory\n"
     ]
    },
    {
     "name": "stderr",
     "output_type": "stream",
     "text": [
      "110it [00:02, 40.00it/s]"
     ]
    },
    {
     "name": "stdout",
     "output_type": "stream",
     "text": [
      "Creating missing directory\n"
     ]
    },
    {
     "name": "stderr",
     "output_type": "stream",
     "text": [
      "128it [00:03, 40.45it/s]"
     ]
    },
    {
     "name": "stdout",
     "output_type": "stream",
     "text": [
      "Creating missing directory\n"
     ]
    },
    {
     "name": "stderr",
     "output_type": "stream",
     "text": [
      "148it [00:03, 40.77it/s]"
     ]
    },
    {
     "name": "stdout",
     "output_type": "stream",
     "text": [
      "Creating missing directory\n"
     ]
    },
    {
     "name": "stderr",
     "output_type": "stream",
     "text": [
      "163it [00:03, 40.22it/s]"
     ]
    },
    {
     "name": "stdout",
     "output_type": "stream",
     "text": [
      "Creating missing directory\n"
     ]
    },
    {
     "name": "stderr",
     "output_type": "stream",
     "text": [
      "178it [00:04, 40.15it/s]"
     ]
    },
    {
     "name": "stdout",
     "output_type": "stream",
     "text": [
      "Creating missing directory\n"
     ]
    },
    {
     "name": "stderr",
     "output_type": "stream",
     "text": [
      "197it [00:04, 41.20it/s]\n"
     ]
    }
   ],
   "source": [
    "process_dataframe(train, 'train')\n",
    "process_dataframe(test, 'test')\n",
    "process_dataframe(val, 'val')"
   ]
  },
  {
   "cell_type": "code",
   "execution_count": 6,
   "metadata": {},
   "outputs": [
    {
     "name": "stdout",
     "output_type": "stream",
     "text": [
      "(1326, 3)\n",
      "(2196, 3)\n",
      "(2787, 3)\n"
     ]
    }
   ],
   "source": [
    "import glob\n",
    "import numpy as np\n",
    "print(np.load(glob.glob(f'../../datasets/jukebox/jukebox_clean/train/*.npy')[0], allow_pickle=True).shape)\n",
    "print(np.load(glob.glob(f'../../datasets/jukebox/jukebox_clean/test/*.npy')[0], allow_pickle=True).shape)\n",
    "print(np.load(glob.glob(f'../../datasets/jukebox/jukebox_clean/val/*.npy')[0], allow_pickle=True).shape)"
   ]
  },
  {
   "cell_type": "code",
   "execution_count": 18,
   "metadata": {},
   "outputs": [],
   "source": [
    "import shutil\n",
    "shutil.rmtree('../../datasets/jukebox/jukebox_snr10')"
   ]
  },
  {
   "cell_type": "code",
   "execution_count": 8,
   "metadata": {},
   "outputs": [
    {
     "data": {
      "text/plain": [
       "['jukebox_features_val.npy']"
      ]
     },
     "execution_count": 8,
     "metadata": {},
     "output_type": "execute_result"
    }
   ],
   "source": [
    "os.listdir(os.path.join(dirName,subdirList[0]))"
   ]
  },
  {
   "cell_type": "code",
   "execution_count": 19,
   "metadata": {},
   "outputs": [
    {
     "data": {
      "text/plain": [
       "<scipy.stats._distn_infrastructure.rv_frozen at 0x7f08093f1c70>"
      ]
     },
     "execution_count": 19,
     "metadata": {},
     "output_type": "execute_result"
    }
   ],
   "source": [
    "from scipy import stats\n",
    "stats.uniform(1,10)"
   ]
  },
  {
   "cell_type": "markdown",
   "metadata": {},
   "source": [
    "# TESTING COMMON FEATURES"
   ]
  },
  {
   "cell_type": "code",
   "execution_count": 13,
   "metadata": {},
   "outputs": [],
   "source": [
    "import pandas as pd\n",
    "df=pd.DataFrame(columns=['classifier','threshold', 'train_data', 'test_data', 'cv_acc_mean', 'cv_acc_std',\n",
    "       'test_acc', 'features'])\n",
    "for train_set in ['clean','snr10','snr5','snr1']:\n",
    "    tmp = pd.read_csv(f'../logs/MIC_1000_features_{train_set}_train.csv', sep='\\t', names=['classifier','threshold','test_data','cv_acc_mean','cv_acc_std','test_acc','features'])\n",
    "    tmp.insert(1,'train_data',train_set)\n",
    "    df=pd.concat([df,tmp]).reset_index(drop=True)\n",
    "from ast import literal_eval\n",
    "df.features = df.features.apply(literal_eval)\n",
    "df\n",
    "df.to_csv('combined_mic.csv', header=True, index=False)\n",
    "\n",
    "clean_features = df['features'][0]\n",
    "snr10_features = df['features'][4]\n",
    "snr5_features = df['features'][8]\n",
    "snr1_features = df['features'][12]\n",
    "\n",
    "common_features=[]\n",
    "for feature in clean_features:\n",
    "    if (feature in snr10_features) and (feature in snr5_features) and (feature in snr5_features):\n",
    "        common_features.append(feature)"
   ]
  },
  {
   "cell_type": "code",
   "execution_count": 14,
   "metadata": {},
   "outputs": [
    {
     "data": {
      "text/plain": [
       "422"
      ]
     },
     "execution_count": 14,
     "metadata": {},
     "output_type": "execute_result"
    }
   ],
   "source": [
    "len(common_features)"
   ]
  },
  {
   "cell_type": "code",
   "execution_count": 16,
   "metadata": {},
   "outputs": [],
   "source": [
    "import jukebox_benchmarking\n",
    "import glob\n",
    "import csv\n",
    "import os\n",
    "import random\n",
    "import pickle\n",
    "from tqdm import tqdm\n",
    "import numpy as np\n",
    "import pandas as pd\n",
    "from scipy import stats\n",
    "\n",
    "from sklearn.svm import SVC\n",
    "from sklearn.metrics import accuracy_score\n",
    "from sklearn.pipeline import make_pipeline\n",
    "from sklearn.preprocessing import StandardScaler\n",
    "from sklearn.ensemble import RandomForestClassifier\n",
    "features = [2350,1059,3742,3722,4098,446,682,4251,1574,2821,3842,1064,2795,312,2009,2747,843,2480,3710,2477,2129,3623,3841,559,749,1623,4699,362,3174,4543,706,48,403,4023,1615,781,4142,2440,1724,2228,4681,4670,3616,725,4007,800,210,4074,1236,2074,892,1333,539,3768,2116,3311,4190,2239,1253,166,4110,977,2289,973,744,1508,3260,2436,2260,4214,1126,4371,4798,4320,3645,2354,3624,1842,1120,1121,208,3168,326,3267,1539,382,4037,2766,3562,4761,4071,810,3714,507,1496,2464,4496,3987,4333,4046,346,1658,798,190,1646,2127,2572,631,4561,4021,2641,838,264,957,2630,713,2503,417,3395,4141,4680,1257,1510,1384,4524,3447,1381,83,2942,665,1660,3006,3953,2988,2872,955,1685,1124,943,3629,1449,3649,3723,3594,267,3393,2759,424,3574,258,782,1372,1409,1493,2850,3107,3516,1923,4439,2882,4403,1205,4262,1870,4438,813,151,2934,2347,4344,2799,4514,69,3972,839,1443,89,1839,4449,2677,4497,1464,1274,3849,4367,3031,3488,3233,3205,4376,3745,4389,3533,605,904,4601,520,4576,4044,4057,1892,1462,3599,939,3800,244,2597,4328,3869,4408,3335,1200,4406,3547,3411,4436,1071,2823,42,4226,1114,2971,2389,2950,3970,3913,4471,4723,1439,632,4480,1520,3817,2439,2219,422,1318,4158,2231,2777,2818,3846,2080,4043,4605,3390,3879,1037,1811,1558,3450,2463,4791,1861,3195,2727,1935,4725,401,816,2645,2996,4062,620,928,3156,4422,1208,946,4395,4022,459,671,4178,4026,3832,433,3858,3457,149,2500,3604,3878,978,3528,3190,1503,4517,2257,2164,2287,2593,3462,567,1332,856,919,4028,207,1609,3248,2776,1818,2380,3517,4568,3583,4180,3004,1230,1177,4374,3741,4252,3515,3647,1656,3278,4503,152,3625,2935,2813,1191,4191,2587,3560,1987,3414,680,3744,1960,354,3114,4233,1385,4365,3351,4429,2742,1928,3209,2982,3962,1234,1348,596,1423,976,981,4493,2059,2585,2238,2663,4156,3951,1577,4136,1425,999,733,3780,4093,1442,1690,3177,1129,695,2364,4188,1394,755,4059,2941,3068,679,1354,1340,2839,1932,931,2843,301,4716,3767,2422,2655,1039,2967,58,801,1017,2298,428,1376,461,4137,4551,4675,2903,4784,2197,2391,2153,4744,3542,1,4593,2091,4244,1273,3862,2874,2751,861,1074,753,1308,2532,4085,2984]#[2350,1059,3742,3722,446,682,4251,1574,2821,3842,1064,312,2009,2747,843,2480,3710,2477,2129,3623,3841,559,4699,362,3174,706,403,1615,781,4142,2440,1724,2228,4681,4670,3616,725,4007,210,4074,1236,2074,892,1333,539,3768,2116,3311,4190,2239,1253,166,4110,977,2289,973,744,1508,2436,4214,1126,4371,4798,4320,2354,3624,1120,208,3168,326,3267,1539,382,4037,2766,3562,4761,507,2464,4496,4333,4046,346,1658,798,190,2127,2572,631,4021,2641,838,264,957,2630,713,2503,4680,1510,1384,4524,3447,1660,3953,2988,2872,955,943,3649,3723,3594,3393,2759,424,3574,258,782,1372,1409,1493,3516,1923,2882,4403,1205,813,4344,4514,3972,839,1443,89,4449,4497,1464,1274,4367,3031,3205,4376,3745,4389,3533,605,904,4601,4057,1462,3599,939,2597,4328,3869,4408,1200,3411,1071,2823,4226,1114,2971,2950,3913,4471,4723,4480,1520,3817,422,1318,4158,2231,2777,3846,2080,4043,4605,3390,1037,1558,3450,2463,1861,3195,2727,1935,4725,816,2645,2996,4062,620,928,3156,4395,4022,671,4026,3858,3457,2500,3878,978,3528,3190,1503,4517,2257,3462,1332,207,1609,2776,1818,3517,4568,3583,4180,3004,1177,3741,4252,3515,3647,1656,3278,4503,152,3625,2813,4191,2587,3560,354,3114,4233,3351,3209,2982,1348,1423,976,981,4493,2059,4156,3951,1577,1425,999,733,3780,1442,1690,3177,695,755,4059,3068,679,1354,2839,2843,1039,2967,58,2298,4137,4551,4675,2903,4784,2197,2391,2153,4593,4244,2874,2751,861,1074,753,1308,2532,4085,2984]"
   ]
  },
  {
   "cell_type": "code",
   "execution_count": 19,
   "metadata": {},
   "outputs": [
    {
     "name": "stdout",
     "output_type": "stream",
     "text": [
      "clean\n",
      "USING SVC\n",
      "Accuracy score on unseen clean data: 70.6896551724138%\n",
      "Accuracy score on unseen snr1 data: 37.24137931034483%\n",
      "Accuracy score on unseen snr5 data: 42.5287356321839%\n",
      "Accuracy score on unseen snr10 data: 45.86206896551724%\n",
      "USING RF\n",
      "Accuracy score on unseen clean data: 60.3448275862069%\n",
      "Accuracy score on unseen snr1 data: 29.770114942528735%\n",
      "Accuracy score on unseen snr5 data: 35.172413793103445%\n",
      "Accuracy score on unseen snr10 data: 38.160919540229884%\n",
      "----------------------------------------------------------------------------------\n",
      "snr1\n",
      "USING SVC\n",
      "Accuracy score on unseen clean data: 58.9655172413793%\n",
      "Accuracy score on unseen snr1 data: 57.35632183908046%\n",
      "Accuracy score on unseen snr5 data: 60.0%\n",
      "Accuracy score on unseen snr10 data: 59.6551724137931%\n",
      "USING RF\n",
      "Accuracy score on unseen clean data: 43.5632183908046%\n",
      "Accuracy score on unseen snr1 data: 47.01149425287356%\n",
      "Accuracy score on unseen snr5 data: 51.839080459770116%\n",
      "Accuracy score on unseen snr10 data: 50.114942528735625%\n",
      "----------------------------------------------------------------------------------\n",
      "snr5\n",
      "USING SVC\n",
      "Accuracy score on unseen clean data: 61.49425287356321%\n",
      "Accuracy score on unseen snr1 data: 58.27586206896552%\n",
      "Accuracy score on unseen snr5 data: 59.77011494252874%\n",
      "Accuracy score on unseen snr10 data: 60.11494252873564%\n",
      "USING RF\n",
      "Accuracy score on unseen clean data: 43.79310344827586%\n",
      "Accuracy score on unseen snr1 data: 45.86206896551724%\n",
      "Accuracy score on unseen snr5 data: 50.45977011494253%\n",
      "Accuracy score on unseen snr10 data: 49.42528735632184%\n",
      "----------------------------------------------------------------------------------\n",
      "snr10\n",
      "USING SVC\n",
      "Accuracy score on unseen clean data: 63.10344827586207%\n",
      "Accuracy score on unseen snr1 data: 58.50574712643678%\n",
      "Accuracy score on unseen snr5 data: 60.57471264367816%\n",
      "Accuracy score on unseen snr10 data: 62.06896551724138%\n",
      "USING RF\n",
      "Accuracy score on unseen clean data: 47.47126436781609%\n",
      "Accuracy score on unseen snr1 data: 47.47126436781609%\n",
      "Accuracy score on unseen snr5 data: 48.62068965517241%\n",
      "Accuracy score on unseen snr10 data: 49.42528735632184%\n",
      "----------------------------------------------------------------------------------\n"
     ]
    }
   ],
   "source": [
    "for train_set in ['clean','snr1','snr5','snr10']:\n",
    "        print(train_set)\n",
    "        v = 1\n",
    "        npy_paths = sorted(glob.glob(f'../../datasets/jukebox/jukebox_{train_set}/train/*.npy'))\n",
    "        X_flattened, y = jukebox_benchmarking.load_data(npy_paths)\n",
    "        X_df = pd.DataFrame(X_flattened)\n",
    "\n",
    "        X_mic = X_df[features].to_numpy()\n",
    "        print(\"USING SVC\")\n",
    "        clf = make_pipeline(StandardScaler(), SVC())#.fit(X_mic, y)\n",
    "        model = clf.fit(X_mic,y)\n",
    "        for d in ['clean','snr1','snr5','snr10']:\n",
    "                test_path = sorted(glob.glob(f'../../datasets/jukebox/jukebox_{d}/test/*.npy'))\n",
    "                X_test, y_test = jukebox_benchmarking.load_data(test_path)\n",
    "                X_test_df = pd.DataFrame(X_test)\n",
    "                y_pred = model.predict(X_test_df[features].to_numpy())\n",
    "                acc = accuracy_score(y_test, y_pred)\n",
    "                print(f\"Accuracy score on unseen {d} data: {acc*100}%\")\n",
    "        \n",
    "        print(\"USING RF\")\n",
    "        clf = make_pipeline(StandardScaler(), RandomForestClassifier())#.fit(X_mic, y)\n",
    "        model = clf.fit(X_mic,y)\n",
    "        for d in ['clean','snr1','snr5','snr10']:\n",
    "                test_path = sorted(glob.glob(f'../../datasets/jukebox/jukebox_{d}/test/*.npy'))\n",
    "                X_test, y_test = jukebox_benchmarking.load_data(test_path)\n",
    "                X_test_df = pd.DataFrame(X_test)\n",
    "                y_pred = model.predict(X_test_df[features].to_numpy())\n",
    "                acc = accuracy_score(y_test, y_pred)\n",
    "                print(f\"Accuracy score on unseen {d} data: {acc*100}%\")\n",
    "        print(\"----------------------------------------------------------------------------------\")"
   ]
  },
  {
   "cell_type": "code",
   "execution_count": 2,
   "metadata": {},
   "outputs": [],
   "source": [
    "import glob\n",
    "import csv\n",
    "import os\n",
    "import random\n",
    "import pickle\n",
    "from tqdm import tqdm\n",
    "import numpy as np\n",
    "import pandas as pd\n",
    "from scipy import stats\n",
    "\n",
    "from sklearn.svm import SVC\n",
    "from sklearn.metrics import accuracy_score\n",
    "from sklearn.model_selection import cross_val_score\n",
    "from sklearn.pipeline import make_pipeline\n",
    "from sklearn.preprocessing import StandardScaler\n",
    "from sklearn.model_selection import RandomizedSearchCV\n",
    "from sklearn.ensemble import RandomForestClassifier\n",
    "\n",
    "random.seed(42)\n",
    "\n",
    "# Load TRAINING data\n",
    "def load_data(npy_paths,v=1):\n",
    "    i=0\n",
    "    for p in npy_paths:\n",
    "        if i == 0:\n",
    "            T=pd.DataFrame(np.load(p, allow_pickle=True))\n",
    "            i+=1\n",
    "        else:\n",
    "            tmp = pd.DataFrame(np.load(p,allow_pickle=True))\n",
    "            T=pd.concat([T,tmp])\n",
    "    y = np.array(pd.DataFrame(T)[1].to_list())\n",
    "    X = np.array(pd.DataFrame(T)[0].to_list())\n",
    "    # LABEL ENCODING FOR GENRES\n",
    "    from sklearn import preprocessing\n",
    "    le = preprocessing.LabelEncoder()\n",
    "    y = le.fit_transform(y)\n",
    "    if v == 2:\n",
    "        le_name_mapping = dict(zip(le.classes_, le.transform(le.classes_)))\n",
    "        print(le_name_mapping)\n",
    "\n",
    "    # JUKEBOX LATENT VECTOR AGGREGATION FROM (N,4800) to (1,4800) for mean or (1,N*4800) for ravel\n",
    "    # if config.aggregate == 'flatten':\n",
    "    #     if v == 2:\n",
    "    #         print(\"converting n-d arrays to 1d using ravel\")\n",
    "    #     X_flattened=np.zeros((len(X),len(X[0].ravel())))\n",
    "    #     for i in range(len(X)):\n",
    "    #         X_flattened[i] = X[i].ravel()#.mean(axis=1)#.ravel()\n",
    "    # elif config.aggregate == 'mean':\n",
    "    if v == 2:\n",
    "        print(\"converting n-d arrays to 1d using mean\")\n",
    "    # print(X[0].mean(axis=0).shape)\n",
    "    X_flattened=np.zeros((len(X),X[0].shape[1]))\n",
    "    for i in range(len(X)):\n",
    "        X_flattened[i] = X[i].mean(axis=0)#.ravel()\n",
    "    return X_flattened,y\n",
    "\n",
    "npy_paths = sorted(glob.glob(f'../../datasets/jukebox/jukebox_snr1/train/*.npy'))\n",
    "X_flattened, y = load_data(npy_paths)\n",
    "X_df = pd.DataFrame(X_flattened)"
   ]
  },
  {
   "cell_type": "code",
   "execution_count": 3,
   "metadata": {},
   "outputs": [],
   "source": [
    "from skfeature.function.similarity_based import fisher_score\n",
    "import matplotlib.pyplot as plt\n",
    "ranks = fisher_score.fisher_score(X_flattened,y)"
   ]
  },
  {
   "cell_type": "code",
   "execution_count": 4,
   "metadata": {},
   "outputs": [
    {
     "name": "stderr",
     "output_type": "stream",
     "text": [
      "100%|██████████| 47/47 [28:39<00:00, 36.58s/it]\n"
     ]
    },
    {
     "data": {
      "text/html": [
       "<div>\n",
       "<style scoped>\n",
       "    .dataframe tbody tr th:only-of-type {\n",
       "        vertical-align: middle;\n",
       "    }\n",
       "\n",
       "    .dataframe tbody tr th {\n",
       "        vertical-align: top;\n",
       "    }\n",
       "\n",
       "    .dataframe thead th {\n",
       "        text-align: right;\n",
       "    }\n",
       "</style>\n",
       "<table border=\"1\" class=\"dataframe\">\n",
       "  <thead>\n",
       "    <tr style=\"text-align: right;\">\n",
       "      <th></th>\n",
       "      <th>n</th>\n",
       "      <th>test_set</th>\n",
       "      <th>test_acc</th>\n",
       "      <th>cv_mean</th>\n",
       "      <th>cv_std</th>\n",
       "    </tr>\n",
       "  </thead>\n",
       "  <tbody>\n",
       "    <tr>\n",
       "      <th>0</th>\n",
       "      <td>100</td>\n",
       "      <td>clean</td>\n",
       "      <td>0.449425</td>\n",
       "      <td>0.633481</td>\n",
       "      <td>0.042343</td>\n",
       "    </tr>\n",
       "    <tr>\n",
       "      <th>1</th>\n",
       "      <td>100</td>\n",
       "      <td>snr1</td>\n",
       "      <td>0.460920</td>\n",
       "      <td>0.633481</td>\n",
       "      <td>0.042343</td>\n",
       "    </tr>\n",
       "    <tr>\n",
       "      <th>2</th>\n",
       "      <td>100</td>\n",
       "      <td>snr5</td>\n",
       "      <td>0.501149</td>\n",
       "      <td>0.633481</td>\n",
       "      <td>0.042343</td>\n",
       "    </tr>\n",
       "    <tr>\n",
       "      <th>3</th>\n",
       "      <td>100</td>\n",
       "      <td>snr10</td>\n",
       "      <td>0.512644</td>\n",
       "      <td>0.633481</td>\n",
       "      <td>0.042343</td>\n",
       "    </tr>\n",
       "    <tr>\n",
       "      <th>4</th>\n",
       "      <td>200</td>\n",
       "      <td>clean</td>\n",
       "      <td>0.568966</td>\n",
       "      <td>0.699915</td>\n",
       "      <td>0.047040</td>\n",
       "    </tr>\n",
       "    <tr>\n",
       "      <th>...</th>\n",
       "      <td>...</td>\n",
       "      <td>...</td>\n",
       "      <td>...</td>\n",
       "      <td>...</td>\n",
       "      <td>...</td>\n",
       "    </tr>\n",
       "    <tr>\n",
       "      <th>183</th>\n",
       "      <td>4600</td>\n",
       "      <td>snr10</td>\n",
       "      <td>0.608046</td>\n",
       "      <td>0.748912</td>\n",
       "      <td>0.045702</td>\n",
       "    </tr>\n",
       "    <tr>\n",
       "      <th>184</th>\n",
       "      <td>4700</td>\n",
       "      <td>clean</td>\n",
       "      <td>0.570115</td>\n",
       "      <td>0.748923</td>\n",
       "      <td>0.045751</td>\n",
       "    </tr>\n",
       "    <tr>\n",
       "      <th>185</th>\n",
       "      <td>4700</td>\n",
       "      <td>snr1</td>\n",
       "      <td>0.579310</td>\n",
       "      <td>0.748923</td>\n",
       "      <td>0.045751</td>\n",
       "    </tr>\n",
       "    <tr>\n",
       "      <th>186</th>\n",
       "      <td>4700</td>\n",
       "      <td>snr5</td>\n",
       "      <td>0.605747</td>\n",
       "      <td>0.748923</td>\n",
       "      <td>0.045751</td>\n",
       "    </tr>\n",
       "    <tr>\n",
       "      <th>187</th>\n",
       "      <td>4700</td>\n",
       "      <td>snr10</td>\n",
       "      <td>0.611494</td>\n",
       "      <td>0.748923</td>\n",
       "      <td>0.045751</td>\n",
       "    </tr>\n",
       "  </tbody>\n",
       "</table>\n",
       "<p>188 rows × 5 columns</p>\n",
       "</div>"
      ],
      "text/plain": [
       "        n test_set  test_acc   cv_mean    cv_std\n",
       "0     100    clean  0.449425  0.633481  0.042343\n",
       "1     100     snr1  0.460920  0.633481  0.042343\n",
       "2     100     snr5  0.501149  0.633481  0.042343\n",
       "3     100    snr10  0.512644  0.633481  0.042343\n",
       "4     200    clean  0.568966  0.699915  0.047040\n",
       "..    ...      ...       ...       ...       ...\n",
       "183  4600    snr10  0.608046  0.748912  0.045702\n",
       "184  4700    clean  0.570115  0.748923  0.045751\n",
       "185  4700     snr1  0.579310  0.748923  0.045751\n",
       "186  4700     snr5  0.605747  0.748923  0.045751\n",
       "187  4700    snr10  0.611494  0.748923  0.045751\n",
       "\n",
       "[188 rows x 5 columns]"
      ]
     },
     "execution_count": 4,
     "metadata": {},
     "output_type": "execute_result"
    }
   ],
   "source": [
    "n_val=[]\n",
    "test_set=[]\n",
    "test_acc=[]\n",
    "cv_acc_mean=[]\n",
    "cv_acc_std=[]\n",
    "\n",
    "for n in tqdm(range (100,4800,100)):\n",
    "    # print(n)\n",
    "    features = list(ranks[:n])\n",
    "    clf = make_pipeline(StandardScaler(), SVC())#.fit(X_mic, y)\n",
    "    scores = cross_val_score(clf, X_df[features], y, cv=10)\n",
    "    for d in ['clean','snr1','snr5','snr10']:\n",
    "        test_path = sorted(glob.glob(f'../../datasets/jukebox/jukebox_{d}/test/*.npy'))\n",
    "        X_test, y_test = load_data(test_path)\n",
    "        X_test_df = pd.DataFrame(X_test)\n",
    "        model = clf.fit(X_df[features],y)\n",
    "        y_pred = model.predict(X_test_df[features].to_numpy())\n",
    "        acc = accuracy_score(y_test, y_pred)\n",
    "\n",
    "        n_val.append(n)\n",
    "        test_set.append(d)\n",
    "        test_acc.append(acc)\n",
    "        cv_acc_mean.append(np.mean(scores))\n",
    "        cv_acc_std.append(np.std(scores))\n",
    "\n",
    "results = pd.DataFrame()\n",
    "results['n'] = n_val\n",
    "results['test_set'] = test_set\n",
    "results['test_acc'] = test_acc\n",
    "results['cv_mean'] = cv_acc_mean\n",
    "results['cv_std'] = cv_acc_std\n",
    "\n",
    "results"
   ]
  },
  {
   "cell_type": "code",
   "execution_count": 10,
   "metadata": {},
   "outputs": [],
   "source": [
    "results.to_csv('fisher_score_snr1.csv',header=True, index=False)"
   ]
  },
  {
   "cell_type": "code",
   "execution_count": 11,
   "metadata": {},
   "outputs": [
    {
     "data": {
      "text/plain": [
       "[<matplotlib.lines.Line2D at 0x7f7524e87700>]"
      ]
     },
     "execution_count": 11,
     "metadata": {},
     "output_type": "execute_result"
    },
    {
     "data": {
      "image/png": "[encoded data removed]",
      "text/plain": [
       "<Figure size 432x288 with 1 Axes>"
      ]
     },
     "metadata": {
      "needs_background": "light"
     },
     "output_type": "display_data"
    }
   ],
   "source": [
    "plt.plot(results[results['test_set'] == 'snr5']['n'],results[results['test_set'] == 'snr5']['test_acc'])"
   ]
  },
  {
   "cell_type": "code",
   "execution_count": 12,
   "metadata": {},
   "outputs": [
    {
     "data": {
      "text/plain": [
       "0.6183908045977011"
      ]
     },
     "execution_count": 12,
     "metadata": {},
     "output_type": "execute_result"
    }
   ],
   "source": [
    "results[results['test_set'] == 'snr5']['test_acc'].max()"
   ]
  },
  {
   "cell_type": "code",
   "execution_count": 13,
   "metadata": {},
   "outputs": [
    {
     "data": {
      "text/html": [
       "<div>\n",
       "<style scoped>\n",
       "    .dataframe tbody tr th:only-of-type {\n",
       "        vertical-align: middle;\n",
       "    }\n",
       "\n",
       "    .dataframe tbody tr th {\n",
       "        vertical-align: top;\n",
       "    }\n",
       "\n",
       "    .dataframe thead th {\n",
       "        text-align: right;\n",
       "    }\n",
       "</style>\n",
       "<table border=\"1\" class=\"dataframe\">\n",
       "  <thead>\n",
       "    <tr style=\"text-align: right;\">\n",
       "      <th></th>\n",
       "      <th>n</th>\n",
       "      <th>test_set</th>\n",
       "      <th>test_acc</th>\n",
       "      <th>cv_mean</th>\n",
       "      <th>cv_std</th>\n",
       "    </tr>\n",
       "  </thead>\n",
       "  <tbody>\n",
       "    <tr>\n",
       "      <th>54</th>\n",
       "      <td>1400</td>\n",
       "      <td>snr5</td>\n",
       "      <td>0.618391</td>\n",
       "      <td>0.745164</td>\n",
       "      <td>0.039958</td>\n",
       "    </tr>\n",
       "    <tr>\n",
       "      <th>74</th>\n",
       "      <td>1900</td>\n",
       "      <td>snr5</td>\n",
       "      <td>0.618391</td>\n",
       "      <td>0.751942</td>\n",
       "      <td>0.040142</td>\n",
       "    </tr>\n",
       "    <tr>\n",
       "      <th>90</th>\n",
       "      <td>2300</td>\n",
       "      <td>snr5</td>\n",
       "      <td>0.618391</td>\n",
       "      <td>0.748929</td>\n",
       "      <td>0.047063</td>\n",
       "    </tr>\n",
       "  </tbody>\n",
       "</table>\n",
       "</div>"
      ],
      "text/plain": [
       "       n test_set  test_acc   cv_mean    cv_std\n",
       "54  1400     snr5  0.618391  0.745164  0.039958\n",
       "74  1900     snr5  0.618391  0.751942  0.040142\n",
       "90  2300     snr5  0.618391  0.748929  0.047063"
      ]
     },
     "execution_count": 13,
     "metadata": {},
     "output_type": "execute_result"
    }
   ],
   "source": [
    "results[results['test_acc'] >= 0.618]"
   ]
  },
  {
   "cell_type": "code",
   "execution_count": 9,
   "metadata": {},
   "outputs": [
    {
     "data": {
      "text/html": [
       "<div>\n",
       "<style scoped>\n",
       "    .dataframe tbody tr th:only-of-type {\n",
       "        vertical-align: middle;\n",
       "    }\n",
       "\n",
       "    .dataframe tbody tr th {\n",
       "        vertical-align: top;\n",
       "    }\n",
       "\n",
       "    .dataframe thead th {\n",
       "        text-align: right;\n",
       "    }\n",
       "</style>\n",
       "<table border=\"1\" class=\"dataframe\">\n",
       "  <thead>\n",
       "    <tr style=\"text-align: right;\">\n",
       "      <th></th>\n",
       "      <th>n</th>\n",
       "      <th>test_set</th>\n",
       "      <th>test_acc</th>\n",
       "      <th>cv_mean</th>\n",
       "      <th>cv_std</th>\n",
       "    </tr>\n",
       "  </thead>\n",
       "  <tbody>\n",
       "    <tr>\n",
       "      <th>52</th>\n",
       "      <td>1400</td>\n",
       "      <td>clean</td>\n",
       "      <td>0.581609</td>\n",
       "      <td>0.745164</td>\n",
       "      <td>0.039958</td>\n",
       "    </tr>\n",
       "    <tr>\n",
       "      <th>53</th>\n",
       "      <td>1400</td>\n",
       "      <td>snr1</td>\n",
       "      <td>0.571264</td>\n",
       "      <td>0.745164</td>\n",
       "      <td>0.039958</td>\n",
       "    </tr>\n",
       "    <tr>\n",
       "      <th>54</th>\n",
       "      <td>1400</td>\n",
       "      <td>snr5</td>\n",
       "      <td>0.618391</td>\n",
       "      <td>0.745164</td>\n",
       "      <td>0.039958</td>\n",
       "    </tr>\n",
       "    <tr>\n",
       "      <th>55</th>\n",
       "      <td>1400</td>\n",
       "      <td>snr10</td>\n",
       "      <td>0.600000</td>\n",
       "      <td>0.745164</td>\n",
       "      <td>0.039958</td>\n",
       "    </tr>\n",
       "  </tbody>\n",
       "</table>\n",
       "</div>"
      ],
      "text/plain": [
       "       n test_set  test_acc   cv_mean    cv_std\n",
       "52  1400    clean  0.581609  0.745164  0.039958\n",
       "53  1400     snr1  0.571264  0.745164  0.039958\n",
       "54  1400     snr5  0.618391  0.745164  0.039958\n",
       "55  1400    snr10  0.600000  0.745164  0.039958"
      ]
     },
     "execution_count": 9,
     "metadata": {},
     "output_type": "execute_result"
    }
   ],
   "source": [
    "results[results['n']==1400]"
   ]
  },
  {
   "cell_type": "code",
   "execution_count": null,
   "metadata": {},
   "outputs": [],
   "source": []
  }
 ],
 "metadata": {
  "interpreter": {
   "hash": "31f2aee4e71d21fbe5cf8b01ff0e069b9275f58929596ceb00d14d90e3e16cd6"
  },
  "kernelspec": {
   "display_name": "Python 3.8.10 64-bit",
   "language": "python",
   "name": "python3"
  },
  "language_info": {
   "codemirror_mode": {
    "name": "ipython",
    "version": 3
   },
   "file_extension": ".py",
   "mimetype": "text/x-python",
   "name": "python",
   "nbconvert_exporter": "python",
   "pygments_lexer": "ipython3",
   "version": "3.8.10"
  },
  "orig_nbformat": 4
 },
 "nbformat": 4,
 "nbformat_minor": 2
}
